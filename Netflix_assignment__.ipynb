{
 "cells": [
  {
   "cell_type": "markdown",
   "metadata": {},
   "source": [
    "Name: Hanish Sai Rohit\n",
    "Ph no: 8332082623\n",
    "email id: hanishsidhu@gmail.com\n",
    "email id: hanishrohit@gmail.com"
   ]
  },
  {
   "cell_type": "markdown",
   "metadata": {},
   "source": [
    "<h1 style=\"text-align:center;font-size:30px;\" > Netflix Movie Recommendation  </h1>"
   ]
  },
  {
   "cell_type": "markdown",
   "metadata": {},
   "source": [
    "<h3>Real world/Business Objectives </h3>"
   ]
  },
  {
   "cell_type": "markdown",
   "metadata": {},
   "source": [
    "1. Predict the rating that a user would give to a movie that he/she has not yet rated.\n",
    "2. Minimize the difference between predicted and actual rating (RMSE and MAPE)\n",
    "<br>"
   ]
  },
  {
   "cell_type": "markdown",
   "metadata": {},
   "source": [
    "<h3>  Mapping the real world problem to a Machine Learning Problem </h3>"
   ]
  },
  {
   "cell_type": "markdown",
   "metadata": {},
   "source": [
    "<pre>\n",
    "For a given movie and user we need to predict the rating would be given by him/her to the movie. \n",
    "The given problem is a Recommendation problem \n",
    "It can also seen as a Regression problem \n",
    "</pre>"
   ]
  },
  {
   "cell_type": "markdown",
   "metadata": {},
   "source": [
    "# Data Acquisation"
   ]
  },
  {
   "cell_type": "code",
   "execution_count": 1,
   "metadata": {},
   "outputs": [],
   "source": [
    "import warnings\n",
    "warnings.filterwarnings(\"ignore\")\n",
    "from datetime import datetime\n",
    "import pickle as pkl\n",
    "import pandas as pd\n",
    "import numpy as np\n",
    "import matplotlib\n",
    "from prettytable import PrettyTable\n",
    "matplotlib.use('nbagg')\n",
    "import matplotlib.pyplot as plt\n",
    "plt.rcParams.update({'figure.max_open_warning': 0})\n",
    "import seaborn as sns\n",
    "sns.set_style('whitegrid')\n",
    "import os\n",
    "from scipy import sparse\n",
    "from scipy.sparse import csr_matrix\n",
    "from sklearn.decomposition import TruncatedSVD\n",
    "from sklearn.metrics.pairwise import cosine_similarity\n",
    "import random\n",
    "import multiprocessing\n",
    "from multiprocessing import Process"
   ]
  },
  {
   "cell_type": "code",
   "execution_count": 2,
   "metadata": {},
   "outputs": [],
   "source": [
    "if not os.path.isfile('data.csv'):\n",
    " \n",
    "    data = open('data.csv', mode='w')\n",
    "    \n",
    "    row = list()\n",
    "    files=['data_folder/combined_data_1.txt','data_folder/combined_data_2.txt', \n",
    "           'data_folder/combined_data_3.txt', 'data_folder/combined_data_4.txt']\n",
    "    for file in files:\n",
    "        with open(file) as f:\n",
    "            for line in f: \n",
    "                line = line.strip()\n",
    "                if line.endswith(':'):\n",
    "                    # All below are ratings for this movie, until another movie appears.\n",
    "                    movie_id = line.replace(':', '')\n",
    "                else:\n",
    "                    row = [x for x in line.split(',')]\n",
    "                    row.insert(0, movie_id)\n",
    "                    data.write(','.join(row))\n",
    "                    data.write('\\n')\n",
    "    data.close()"
   ]
  },
  {
   "cell_type": "code",
   "execution_count": 39,
   "metadata": {},
   "outputs": [
    {
     "data": {
      "text/html": [
       "<div>\n",
       "<style scoped>\n",
       "    .dataframe tbody tr th:only-of-type {\n",
       "        vertical-align: middle;\n",
       "    }\n",
       "\n",
       "    .dataframe tbody tr th {\n",
       "        vertical-align: top;\n",
       "    }\n",
       "\n",
       "    .dataframe thead th {\n",
       "        text-align: right;\n",
       "    }\n",
       "</style>\n",
       "<table border=\"1\" class=\"dataframe\">\n",
       "  <thead>\n",
       "    <tr style=\"text-align: right;\">\n",
       "      <th></th>\n",
       "      <th>movie</th>\n",
       "      <th>user</th>\n",
       "      <th>rating</th>\n",
       "      <th>date</th>\n",
       "    </tr>\n",
       "  </thead>\n",
       "  <tbody>\n",
       "    <tr>\n",
       "      <th>56431994</th>\n",
       "      <td>10341</td>\n",
       "      <td>510180</td>\n",
       "      <td>4</td>\n",
       "      <td>1999-11-11</td>\n",
       "    </tr>\n",
       "    <tr>\n",
       "      <th>9056171</th>\n",
       "      <td>1798</td>\n",
       "      <td>510180</td>\n",
       "      <td>5</td>\n",
       "      <td>1999-11-11</td>\n",
       "    </tr>\n",
       "  </tbody>\n",
       "</table>\n",
       "</div>"
      ],
      "text/plain": [
       "          movie    user  rating       date\n",
       "56431994  10341  510180       4 1999-11-11\n",
       "9056171    1798  510180       5 1999-11-11"
      ]
     },
     "execution_count": 39,
     "metadata": {},
     "output_type": "execute_result"
    }
   ],
   "source": [
    "df = pd.read_csv('data.csv', sep=',', \n",
    "                       names=['movie', 'user','rating','date'])\n",
    "df.date = pd.to_datetime(df.date)\n",
    "\n",
    "# arranging the ratings according to time.\n",
    "df.sort_values(by='date', inplace=True)\n",
    "df.head(2)"
   ]
  },
  {
   "cell_type": "markdown",
   "metadata": {},
   "source": [
    "# Data Analyisis and Data Cleaning"
   ]
  },
  {
   "cell_type": "code",
   "execution_count": 29,
   "metadata": {},
   "outputs": [
    {
     "name": "stdout",
     "output_type": "stream",
     "text": [
      "Basic Stats on ratings.\n",
      "+--------+-------------+\n",
      "| metric |    value    |\n",
      "+--------+-------------+\n",
      "| count  | 100480507.0 |\n",
      "|  mean  |     3.6     |\n",
      "|  std   |     1.09    |\n",
      "|  min   |     1.0     |\n",
      "|  25%   |     3.0     |\n",
      "|  50%   |     4.0     |\n",
      "|  75%   |     4.0     |\n",
      "|  max   |     5.0     |\n",
      "+--------+-------------+\n"
     ]
    }
   ],
   "source": [
    "x = PrettyTable()\n",
    "i=0\n",
    "print('Basic Stats on ratings.')\n",
    "x.field_names=[ 'metric','value']\n",
    "for row in df.describe()['rating']:\n",
    "    x.add_row([df.describe()['rating'].index[i],np.round(row,decimals=2)])\n",
    "    i = i + 1\n",
    "print(x)    "
   ]
  },
  {
   "cell_type": "code",
   "execution_count": 11,
   "metadata": {},
   "outputs": [
    {
     "name": "stdout",
     "output_type": "stream",
     "text": [
      "No of Nan values in our dataframe :  0\n"
     ]
    }
   ],
   "source": [
    "# just to make sure that all Nan containing rows are deleted..\n",
    "print(\"No of Nan values in our dataframe : \", sum(df.isnull().any()))"
   ]
  },
  {
   "cell_type": "code",
   "execution_count": 12,
   "metadata": {},
   "outputs": [
    {
     "name": "stdout",
     "output_type": "stream",
     "text": [
      "There are 0 duplicate rating entries in the data..\n"
     ]
    }
   ],
   "source": [
    "dup_bool = df.duplicated(['movie','user','rating'])\n",
    "dups = sum(dup_bool)\n",
    "print(\"There are {} duplicate rating entries in the data..\".format(dups))"
   ]
  },
  {
   "cell_type": "code",
   "execution_count": 13,
   "metadata": {},
   "outputs": [
    {
     "name": "stdout",
     "output_type": "stream",
     "text": [
      "Total data \n",
      "--------------------------------------------------\n",
      "\n",
      "Total no of ratings : 100480507\n",
      "Total No of Users   : 480189\n",
      "Total No of movies  : 17770\n"
     ]
    }
   ],
   "source": [
    "print(\"Total data \")\n",
    "print(\"-\"*50)\n",
    "print(\"\\nTotal no of ratings :\",df.shape[0])\n",
    "print(\"Total No of Users   :\", len(np.unique(df.user)))\n",
    "print(\"Total No of movies  :\", len(np.unique(df.movie)))"
   ]
  },
  {
   "cell_type": "code",
   "execution_count": 2,
   "metadata": {},
   "outputs": [],
   "source": [
    "if not os.path.isfile('train.csv'):\n",
    "    df.iloc[:int(df.shape[0]*0.80)].to_csv(\"train.csv\", index=False)\n",
    "\n",
    "if not os.path.isfile('test.csv'):\n",
    "    df.iloc[int(df.shape[0]*0.80):].to_csv(\"test.csv\", index=False)\n",
    "\n",
    "train_df = pd.read_csv(\"train.csv\", parse_dates=['date'])\n",
    "test_df = pd.read_csv(\"test.csv\")"
   ]
  },
  {
   "cell_type": "code",
   "execution_count": 4,
   "metadata": {},
   "outputs": [
    {
     "name": "stdout",
     "output_type": "stream",
     "text": [
      "Training data \n",
      "--------------------------------------------------\n",
      "\n",
      "Total no of ratings : 80384405\n",
      "Total No of Users   : 405041\n",
      "Total No of movies  : 17424\n"
     ]
    }
   ],
   "source": [
    "print(\"Training data \")\n",
    "print(\"-\"*50)\n",
    "print(\"\\nTotal no of ratings :\",train_df.shape[0])\n",
    "print(\"Total No of Users   :\", len(np.unique(train_df.user)))\n",
    "print(\"Total No of movies  :\", len(np.unique(train_df.movie)))"
   ]
  },
  {
   "cell_type": "code",
   "execution_count": 6,
   "metadata": {},
   "outputs": [
    {
     "name": "stdout",
     "output_type": "stream",
     "text": [
      "Test data \n",
      "--------------------------------------------------\n",
      "\n",
      "Total no of ratings : 20096102\n",
      "Total No of Users   : 349312\n",
      "Total No of movies  : 17757\n"
     ]
    }
   ],
   "source": [
    "print(\"Test data \")\n",
    "print(\"-\"*50)\n",
    "print(\"\\nTotal no of ratings :\",test_df.shape[0])\n",
    "print(\"Total No of Users   :\", len(np.unique(test_df.user)))\n",
    "print(\"Total No of movies  :\", len(np.unique(test_df.movie)))"
   ]
  },
  {
   "cell_type": "markdown",
   "metadata": {},
   "source": [
    "<h3> Distribution of ratings </h3>"
   ]
  },
  {
   "cell_type": "code",
   "execution_count": 26,
   "metadata": {},
   "outputs": [],
   "source": [
    "# method to make y-axis more readable\n",
    "def human(num, units = 'M'):\n",
    "    units = units.lower()\n",
    "    num = float(num)\n",
    "    if units == 'k':\n",
    "        return str(num/10**3) + \" K\"\n",
    "    elif units == 'm':\n",
    "        return str(num/10**6) + \" M\"\n",
    "    elif units == 'b':\n",
    "        return str(num/10**9) +  \" B\""
   ]
  },
  {
   "cell_type": "code",
   "execution_count": 11,
   "metadata": {},
   "outputs": [
    {
     "data": {
      "image/png": "[encoded data removed]",
      "text/plain": [
       "<Figure size 432x288 with 1 Axes>"
      ]
     },
     "metadata": {},
     "output_type": "display_data"
    }
   ],
   "source": [
    "%matplotlib inline\n",
    "\n",
    "fig, ax = plt.subplots()\n",
    "plt.title('Distribution of ratings over Training dataset', fontsize=15)\n",
    "sns.countplot(train_df.rating)\n",
    "ax.set_yticklabels([human(item, 'M') for item in ax.get_yticks()])\n",
    "ax.set_ylabel('No. of Ratings(Millions)')\n",
    "plt.show()"
   ]
  },
  {
   "cell_type": "markdown",
   "metadata": {},
   "source": [
    "observation:\n",
    "    * most of the ratings are either 3 or 4."
   ]
  },
  {
   "cell_type": "code",
   "execution_count": 24,
   "metadata": {},
   "outputs": [
    {
     "data": {
      "text/html": [
       "<div>\n",
       "<style scoped>\n",
       "    .dataframe tbody tr th:only-of-type {\n",
       "        vertical-align: middle;\n",
       "    }\n",
       "\n",
       "    .dataframe tbody tr th {\n",
       "        vertical-align: top;\n",
       "    }\n",
       "\n",
       "    .dataframe thead th {\n",
       "        text-align: right;\n",
       "    }\n",
       "</style>\n",
       "<table border=\"1\" class=\"dataframe\">\n",
       "  <thead>\n",
       "    <tr style=\"text-align: right;\">\n",
       "      <th></th>\n",
       "      <th>movie</th>\n",
       "      <th>user</th>\n",
       "      <th>rating</th>\n",
       "      <th>date</th>\n",
       "      <th>day_of_week</th>\n",
       "    </tr>\n",
       "  </thead>\n",
       "  <tbody>\n",
       "    <tr>\n",
       "      <th>80384403</th>\n",
       "      <td>14861</td>\n",
       "      <td>500016</td>\n",
       "      <td>4</td>\n",
       "      <td>2005-08-08</td>\n",
       "      <td>Monday</td>\n",
       "    </tr>\n",
       "    <tr>\n",
       "      <th>80384404</th>\n",
       "      <td>5926</td>\n",
       "      <td>1044015</td>\n",
       "      <td>5</td>\n",
       "      <td>2005-08-08</td>\n",
       "      <td>Monday</td>\n",
       "    </tr>\n",
       "  </tbody>\n",
       "</table>\n",
       "</div>"
      ],
      "text/plain": [
       "          movie     user  rating       date day_of_week\n",
       "80384403  14861   500016       4 2005-08-08      Monday\n",
       "80384404   5926  1044015       5 2005-08-08      Monday"
      ]
     },
     "execution_count": 24,
     "metadata": {},
     "output_type": "execute_result"
    }
   ],
   "source": [
    "# It is used to skip the warning ''SettingWithCopyWarning''.. \n",
    "pd.options.mode.chained_assignment = None  # default='warn'\n",
    "\n",
    "train_df['day_of_week'] = train_df.date.dt.weekday_name\n",
    "\n",
    "train_df.tail(2)"
   ]
  },
  {
   "cell_type": "code",
   "execution_count": 13,
   "metadata": {},
   "outputs": [
    {
     "data": {
      "image/png": "[encoded data removed]",
      "text/plain": [
       "<Figure size 432x288 with 1 Axes>"
      ]
     },
     "metadata": {},
     "output_type": "display_data"
    }
   ],
   "source": [
    "ax = train_df.resample('m', on='date')['rating'].count().plot()\n",
    "ax.set_title('No of ratings per month (Training data)')\n",
    "plt.xlabel('Month')\n",
    "plt.ylabel('No of ratings(per month)')\n",
    "ax.set_yticklabels([human(item, 'M') for item in ax.get_yticks()])\n",
    "plt.show()"
   ]
  },
  {
   "cell_type": "markdown",
   "metadata": {},
   "source": [
    "observation:\n",
    "    * Number of ratings per month increases over the time."
   ]
  },
  {
   "cell_type": "markdown",
   "metadata": {},
   "source": [
    "<h3>  Analysis on the Ratings given by user </h3>"
   ]
  },
  {
   "cell_type": "code",
   "execution_count": 4,
   "metadata": {},
   "outputs": [
    {
     "data": {
      "image/png": "[encoded data removed]",
      "text/plain": [
       "<Figure size 576x288 with 2 Axes>"
      ]
     },
     "metadata": {},
     "output_type": "display_data"
    }
   ],
   "source": [
    "no_of_rated_movies_per_user = train_df.groupby(by='user')['rating'].count().sort_values(ascending=False)\n",
    "\n",
    "fig = plt.figure(figsize=plt.figaspect(.5))\n",
    "\n",
    "ax1 = plt.subplot(121)\n",
    "sns.kdeplot(no_of_rated_movies_per_user, shade=True, ax=ax1)\n",
    "plt.xlabel('No of ratings by user')\n",
    "plt.title(\"PDF\")\n",
    "\n",
    "ax2 = plt.subplot(122)\n",
    "sns.kdeplot(no_of_rated_movies_per_user, shade=True, cumulative=True,ax=ax2)\n",
    "plt.xlabel('No of ratings by user')\n",
    "plt.title('CDF')\n",
    "\n",
    "plt.show()"
   ]
  },
  {
   "cell_type": "code",
   "execution_count": 15,
   "metadata": {},
   "outputs": [
    {
     "data": {
      "text/plain": [
       "count    405041.000000\n",
       "mean        198.459921\n",
       "std         290.793238\n",
       "min           1.000000\n",
       "25%          34.000000\n",
       "50%          89.000000\n",
       "75%         245.000000\n",
       "max       17112.000000\n",
       "Name: rating, dtype: float64"
      ]
     },
     "execution_count": 15,
     "metadata": {},
     "output_type": "execute_result"
    }
   ],
   "source": [
    "no_of_rated_movies_per_user.describe()  "
   ]
  },
  {
   "cell_type": "markdown",
   "metadata": {},
   "source": [
    "observation:\n",
    "    * more than 50% of users have rated more than 89 times.\n",
    "    * 75% of users have rated less than 245 times."
   ]
  },
  {
   "cell_type": "code",
   "execution_count": 19,
   "metadata": {},
   "outputs": [
    {
     "data": {
      "image/png": "[encoded data removed]",
      "text/plain": [
       "<Figure size 432x288 with 1 Axes>"
      ]
     },
     "metadata": {},
     "output_type": "display_data"
    }
   ],
   "source": [
    "quantiles = no_of_rated_movies_per_user.quantile(np.arange(0,1.01,0.01), interpolation='higher')\n",
    "plt.title(\"Quantiles and their Values\")\n",
    "quantiles.plot()\n",
    "# quantiles with 0.05 difference\n",
    "plt.scatter(x=quantiles.index[::5], y=quantiles.values[::5], c='orange', label=\"quantiles with 0.05 intervals\")\n",
    "# quantiles with 0.25 difference\n",
    "plt.scatter(x=quantiles.index[::25], y=quantiles.values[::25], c='m', label = \"quantiles with 0.25 intervals\")\n",
    "plt.ylabel('No of ratings by user')\n",
    "plt.xlabel('Value at the quantile')\n",
    "plt.legend(loc='best')\n",
    "\n",
    "# annotate the 25th, 50th, 75th and 100th percentile values....\n",
    "for x,y in zip(quantiles.index[::25], quantiles[::25]):\n",
    "    plt.annotate(text=\"({} , {})\".format(x,y), xy=(x,y), xytext=(x-0.05, y+500)\n",
    "                ,fontweight='bold')\n",
    "\n",
    "\n",
    "plt.show()"
   ]
  },
  {
   "cell_type": "code",
   "execution_count": 21,
   "metadata": {},
   "outputs": [
    {
     "name": "stdout",
     "output_type": "stream",
     "text": [
      "\n",
      " No of ratings at last 5 percentile : 20305\n",
      "\n"
     ]
    }
   ],
   "source": [
    "print('\\n No of ratings at last 5 percentile : {}\\n'.format(sum(no_of_rated_movies_per_user>= 749)) )"
   ]
  },
  {
   "cell_type": "markdown",
   "metadata": {},
   "source": [
    "<h3> Analysis of ratings of a movie given by a user </h3>"
   ]
  },
  {
   "cell_type": "code",
   "execution_count": 22,
   "metadata": {},
   "outputs": [
    {
     "data": {
      "image/png": "[encoded data removed]",
      "text/plain": [
       "<Figure size 576x288 with 1 Axes>"
      ]
     },
     "metadata": {},
     "output_type": "display_data"
    }
   ],
   "source": [
    "no_of_ratings_per_movie = train_df.groupby(by='movie')['rating'].count().sort_values(ascending=False)\n",
    "\n",
    "fig = plt.figure(figsize=plt.figaspect(.5))\n",
    "ax = plt.gca()\n",
    "plt.plot(no_of_ratings_per_movie.values)\n",
    "plt.title('# RATINGS per Movie')\n",
    "plt.xlabel('Movie')\n",
    "plt.ylabel('No of Users who rated a movie')\n",
    "ax.set_xticklabels([])\n",
    "\n",
    "plt.show()"
   ]
  },
  {
   "cell_type": "markdown",
   "metadata": {},
   "source": [
    "- __It is very skewed.. just like nunmber of ratings given per user.__\n",
    "    \n",
    "    \n",
    "    - There are some movies (which are very popular) which are rated by huge number of users.\n",
    "    \n",
    "    - But most of the movies(like 90%) got some hundereds of ratings."
   ]
  },
  {
   "cell_type": "code",
   "execution_count": 27,
   "metadata": {},
   "outputs": [
    {
     "data": {
      "image/png": "[encoded data removed]",
      "text/plain": [
       "<Figure size 432x288 with 1 Axes>"
      ]
     },
     "metadata": {},
     "output_type": "display_data"
    }
   ],
   "source": [
    "fig, ax = plt.subplots()\n",
    "sns.countplot(x='day_of_week', data=train_df, ax=ax)\n",
    "plt.title('No of ratings on each day...')\n",
    "plt.ylabel('Total no of ratings')\n",
    "plt.xlabel('')\n",
    "ax.set_yticklabels([human(item, 'M') for item in ax.get_yticks()])\n",
    "plt.show()"
   ]
  },
  {
   "cell_type": "markdown",
   "metadata": {},
   "source": [
    "observation:\n",
    "    * most of the reviews are on weekdays"
   ]
  },
  {
   "cell_type": "markdown",
   "metadata": {},
   "source": [
    "<h3>  Creating sparse matrix from data frame </h3>"
   ]
  },
  {
   "cell_type": "code",
   "execution_count": 28,
   "metadata": {},
   "outputs": [
    {
     "name": "stdout",
     "output_type": "stream",
     "text": [
      "shape of the created sparse matrix (user, movie) :  (2649430, 17771)\n",
      "Saving it into disk for furthur usage..\n",
      "Done..\n",
      "\n",
      "0:01:12.092823\n"
     ]
    }
   ],
   "source": [
    "start = datetime.now()\n",
    "if os.path.isfile('train_sparse_matrix.npz'):\n",
    "    train_sparse_matrix = sparse.load_npz('train_sparse_matrix.npz')\n",
    "else: \n",
    "    # It should be in such a way that, MATRIX[row, col] = data\n",
    "    train_sparse_matrix = sparse.csr_matrix((train_df.rating.values, (train_df.user.values,\n",
    "                                               train_df.movie.values)),)\n",
    "    \n",
    "    print('shape of the created sparse matrix (user, movie) : ',train_sparse_matrix.shape)\n",
    "    print('Saving it into disk for furthur usage..')\n",
    "    sparse.save_npz(\"train_sparse_matrix.npz\", train_sparse_matrix)\n",
    "    print('Done..\\n')\n",
    "\n",
    "print(datetime.now() - start)"
   ]
  },
  {
   "cell_type": "markdown",
   "metadata": {},
   "source": [
    "<p><b>The Sparsity of Train Sparse Matrix</b></p>"
   ]
  },
  {
   "cell_type": "code",
   "execution_count": 29,
   "metadata": {},
   "outputs": [
    {
     "name": "stdout",
     "output_type": "stream",
     "text": [
      "Sparsity Of Train matrix : 99.8292709259195 % \n"
     ]
    }
   ],
   "source": [
    "us,mv = train_sparse_matrix.shape\n",
    "elem = train_sparse_matrix.count_nonzero()\n",
    "\n",
    "print(\"Sparsity Of Train matrix : {} % \".format(  (1-(elem/(us*mv))) * 100) )"
   ]
  },
  {
   "cell_type": "markdown",
   "metadata": {},
   "source": [
    "<h4> Creating sparse matrix from test data frame </h4>"
   ]
  },
  {
   "cell_type": "code",
   "execution_count": 30,
   "metadata": {},
   "outputs": [
    {
     "name": "stdout",
     "output_type": "stream",
     "text": [
      "shape of the created sparse matrix (user, movie) :  (2649430, 17771)\n",
      "Saving it into disk for furthur usage..\n",
      "0:00:18.908979\n"
     ]
    }
   ],
   "source": [
    "start = datetime.now()\n",
    "if os.path.isfile('test_sparse_matrix.npz'):\n",
    "    test_sparse_matrix = sparse.load_npz('test_sparse_matrix.npz')\n",
    "else: \n",
    "    # It should be in such a way that, MATRIX[row, col] = data\n",
    "    test_sparse_matrix = sparse.csr_matrix((test_df.rating.values, (test_df.user.values,\n",
    "                                               test_df.movie.values)))\n",
    "    \n",
    "    print('shape of the created sparse matrix (user, movie) : ',test_sparse_matrix.shape)\n",
    "    print('Saving it into disk for furthur usage..')\n",
    "    sparse.save_npz(\"test_sparse_matrix.npz\", test_sparse_matrix)    \n",
    "print(datetime.now() - start)"
   ]
  },
  {
   "cell_type": "markdown",
   "metadata": {},
   "source": [
    "<p><b>The Sparsity of Test data Matrix</b></p>"
   ]
  },
  {
   "cell_type": "code",
   "execution_count": 31,
   "metadata": {},
   "outputs": [
    {
     "name": "stdout",
     "output_type": "stream",
     "text": [
      "Sparsity Of Test matrix : 99.95731772988694 % \n"
     ]
    }
   ],
   "source": [
    "us,mv = test_sparse_matrix.shape\n",
    "elem = test_sparse_matrix.count_nonzero()\n",
    "\n",
    "print(\"Sparsity Of Test matrix : {} % \".format(  (1-(elem/(us*mv))) * 100) )"
   ]
  },
  {
   "cell_type": "markdown",
   "metadata": {},
   "source": [
    "<h3> Finding Global average of all movie ratings, Average rating per user, and Average rating per movie</h3>"
   ]
  },
  {
   "cell_type": "code",
   "execution_count": 2,
   "metadata": {},
   "outputs": [],
   "source": [
    "# get the user averages in dictionary (key: user_id/movie_id, value: avg rating)\n",
    "\n",
    "def get_average_ratings(sparse_matrix, of_users):\n",
    "    \n",
    "    # average ratings of user/axes\n",
    "    ax = 1 if of_users else 0 # 1 - User axes,0 - Movie axes\n",
    "\n",
    "    # \".A1\" is for converting Column_Matrix to 1-D numpy array \n",
    "    sum_of_ratings = sparse_matrix.sum(axis=ax).A1\n",
    "    # Boolean matrix of ratings ( whether a user rated that movie or not)\n",
    "    is_rated = sparse_matrix!=0\n",
    "    # no of ratings that each user OR movie..\n",
    "    no_of_ratings = is_rated.sum(axis=ax).A1\n",
    "    \n",
    "    # max_user  and max_movie ids in sparse matrix \n",
    "    u,m = sparse_matrix.shape\n",
    "    # creae a dictonary of users and their average ratigns..\n",
    "    average_ratings = { i : sum_of_ratings[i]/no_of_ratings[i]\n",
    "                                 for i in range(u if of_users else m) \n",
    "                                    if no_of_ratings[i] !=0}\n",
    "\n",
    "    # return that dictionary of average ratings\n",
    "    return average_ratings"
   ]
  },
  {
   "cell_type": "code",
   "execution_count": 33,
   "metadata": {},
   "outputs": [
    {
     "data": {
      "text/plain": [
       "{'global': 3.582890686321557}"
      ]
     },
     "execution_count": 33,
     "metadata": {},
     "output_type": "execute_result"
    }
   ],
   "source": [
    "train_averages = dict()\n",
    "# get the global average of ratings in our train set.\n",
    "train_global_average = train_sparse_matrix.sum()/train_sparse_matrix.count_nonzero()\n",
    "train_averages['global'] = train_global_average\n",
    "train_averages"
   ]
  },
  {
   "cell_type": "code",
   "execution_count": 35,
   "metadata": {},
   "outputs": [
    {
     "name": "stdout",
     "output_type": "stream",
     "text": [
      "\n",
      "Average rating of user 10 : 3.3781094527363185\n"
     ]
    }
   ],
   "source": [
    "train_averages['user'] = get_average_ratings(train_sparse_matrix, of_users=True)\n",
    "print('\\nAverage rating of user 10 :',train_averages['user'][10])"
   ]
  },
  {
   "cell_type": "code",
   "execution_count": 36,
   "metadata": {},
   "outputs": [
    {
     "name": "stdout",
     "output_type": "stream",
     "text": [
      "\n",
      " AVerage rating of movie 15 : 3.3038461538461537\n"
     ]
    }
   ],
   "source": [
    "train_averages['movie'] =  get_average_ratings(train_sparse_matrix, of_users=False)\n",
    "print('\\n AVerage rating of movie 15 :',train_averages['movie'][15])"
   ]
  },
  {
   "cell_type": "markdown",
   "metadata": {},
   "source": [
    "<h4>  PDF's & CDF's of Avg.Ratings of Users & Movies (In Train Data)</h4>"
   ]
  },
  {
   "cell_type": "code",
   "execution_count": 37,
   "metadata": {},
   "outputs": [
    {
     "data": {
      "image/png": "[encoded data removed]",
      "text/plain": [
       "<Figure size 576x288 with 2 Axes>"
      ]
     },
     "metadata": {},
     "output_type": "display_data"
    }
   ],
   "source": [
    "# draw pdfs for average rating per user and average\n",
    "fig, (ax1, ax2) = plt.subplots(nrows=1, ncols=2, figsize=plt.figaspect(.5))\n",
    "fig.suptitle('Avg Ratings per User and per Movie', fontsize=15)\n",
    "\n",
    "ax1.set_title('Users-Avg-Ratings')\n",
    "# get the list of average user ratings from the averages dictionary..\n",
    "user_averages = [rat for rat in train_averages['user'].values()]\n",
    "sns.distplot(user_averages, ax=ax1, hist=False, \n",
    "             kde_kws=dict(cumulative=True), label='Cdf')\n",
    "sns.distplot(user_averages, ax=ax1, hist=False,label='Pdf')\n",
    "\n",
    "ax2.set_title('Movies-Avg-Rating')\n",
    "# get the list of movie_average_ratings from the dictionary..\n",
    "movie_averages = [rat for rat in train_averages['movie'].values()]\n",
    "sns.distplot(movie_averages, ax=ax2, hist=False, \n",
    "             kde_kws=dict(cumulative=True), label='Cdf')\n",
    "sns.distplot(movie_averages, ax=ax2, hist=False, label='Pdf')\n",
    "\n",
    "plt.show()"
   ]
  },
  {
   "cell_type": "markdown",
   "metadata": {},
   "source": [
    "<h3> Cold Start problem </h3>"
   ]
  },
  {
   "cell_type": "markdown",
   "metadata": {},
   "source": [
    "<h4>  Cold Start problem with Users</h4>"
   ]
  },
  {
   "cell_type": "code",
   "execution_count": 40,
   "metadata": {},
   "outputs": [
    {
     "name": "stdout",
     "output_type": "stream",
     "text": [
      "\n",
      "Total number of Users  : 480189\n",
      "\n",
      "Number of Users in Train data : 405041\n",
      "\n",
      "No of Users that didn't appear in train data: 75148(15.65 %) \n",
      " \n"
     ]
    }
   ],
   "source": [
    "total_users = len(np.unique(df.user))\n",
    "users_train = len(train_averages['user'])\n",
    "new_users = total_users - users_train\n",
    "\n",
    "print('\\nTotal number of Users  :', total_users)\n",
    "print('\\nNumber of Users in Train data :', users_train)\n",
    "print(\"\\nNo of Users that didn't appear in train data: {}({} %) \\n \".format(new_users,\n",
    "                                                                        np.round((new_users/total_users)*100, 2)))"
   ]
  },
  {
   "cell_type": "markdown",
   "metadata": {},
   "source": [
    "> We might have to handle __new users__ ( ___75148___ ) who didn't appear in train data."
   ]
  },
  {
   "cell_type": "markdown",
   "metadata": {},
   "source": [
    "<h4> Cold Start problem with Movies</h4>"
   ]
  },
  {
   "cell_type": "code",
   "execution_count": 41,
   "metadata": {},
   "outputs": [
    {
     "name": "stdout",
     "output_type": "stream",
     "text": [
      "\n",
      "Total number of Movies  : 17770\n",
      "\n",
      "Number of Users in Train data : 17424\n",
      "\n",
      "No of Movies that didn't appear in train data: 346(1.95 %) \n",
      " \n"
     ]
    }
   ],
   "source": [
    "total_movies = len(np.unique(df.movie))\n",
    "movies_train = len(train_averages['movie'])\n",
    "new_movies = total_movies - movies_train\n",
    "\n",
    "print('\\nTotal number of Movies  :', total_movies)\n",
    "print('\\nNumber of Users in Train data :', movies_train)\n",
    "print(\"\\nNo of Movies that didn't appear in train data: {}({} %) \\n \".format(new_movies,\n",
    "                                                                        np.round((new_movies/total_movies)*100, 2)))"
   ]
  },
  {
   "cell_type": "markdown",
   "metadata": {},
   "source": [
    "> We might have to handle __346 movies__ (small comparatively) in test data"
   ]
  },
  {
   "cell_type": "markdown",
   "metadata": {},
   "source": [
    "<h3> Computing Movie-Movie Similarity matrix </h3>"
   ]
  },
  {
   "cell_type": "code",
   "execution_count": 42,
   "metadata": {},
   "outputs": [
    {
     "name": "stdout",
     "output_type": "stream",
     "text": [
      "It's a  (17771, 17771)  dimensional matrix\n"
     ]
    }
   ],
   "source": [
    "start = datetime.now()\n",
    "if not os.path.isfile('m_m_sim_sparse.npz'):\n",
    "    m_m_sim_sparse = cosine_similarity(X=train_sparse_matrix.T, dense_output=False)\n",
    "    sparse.save_npz(\"m_m_sim_sparse.npz\", m_m_sim_sparse)\n",
    "else:\n",
    "    m_m_sim_sparse = sparse.load_npz(\"m_m_sim_sparse.npz\")\n",
    "\n",
    "print(\"It's a \",m_m_sim_sparse.shape,\" dimensional matrix\")"
   ]
  },
  {
   "cell_type": "code",
   "execution_count": 44,
   "metadata": {},
   "outputs": [
    {
     "data": {
      "text/plain": [
       "array([ 8279,  8013, 16528,  5927, 13105, 12049,  4424, 10193, 17590,\n",
       "        4549,  3755,   590, 14059, 15144, 15054,  9584,  9071,  6349,\n",
       "       16402,  3973,  1720,  5370, 16309,  9376,  6116,  4706,  2818,\n",
       "         778, 15331,  1416, 12979, 17139, 17710,  5452,  2534,   164,\n",
       "       15188,  8323,  2450, 16331,  9566, 15301, 13213, 14308, 15984,\n",
       "       10597,  6426,  5500,  7068,  7328,  5720,  9802,   376, 13013,\n",
       "        8003, 10199,  3338, 15390,  9688, 16455, 11730,  4513,   598,\n",
       "       12762,  2187,   509,  5865,  9166, 17115, 16334,  1942,  7282,\n",
       "       17584,  4376,  8988,  8873,  5921,  2716, 14679, 11947, 11981,\n",
       "        4649,   565, 12954, 10788, 10220, 10963,  9427,  1690,  5107,\n",
       "        7859,  5969,  1510,  2429,   847,  7845,  6410, 13931,  9840,\n",
       "        3706])"
      ]
     },
     "execution_count": 44,
     "metadata": {},
     "output_type": "execute_result"
    }
   ],
   "source": [
    "movie_ids = np.unique(m_m_sim_sparse.nonzero()[1])\n",
    "similar_movies = dict()\n",
    "for movie in movie_ids:\n",
    "    # get the top similar movies and store them in the dictionary\n",
    "    sim_movies = m_m_sim_sparse[movie].toarray().ravel().argsort()[::-1][1:]\n",
    "    similar_movies[movie] = sim_movies[:100]\n",
    "\n",
    "# just testing similar movies for movie_15\n",
    "similar_movies[15]"
   ]
  },
  {
   "cell_type": "markdown",
   "metadata": {},
   "source": [
    "<h3> Finding most similar movies using similarity matrix </h3>"
   ]
  },
  {
   "cell_type": "code",
   "execution_count": 46,
   "metadata": {},
   "outputs": [
    {
     "name": "stdout",
     "output_type": "stream",
     "text": [
      "Tokenization took: 4.66 ms\n",
      "Type conversion took: 11.94 ms\n",
      "Parser memory cleanup took: 0.01 ms\n"
     ]
    },
    {
     "data": {
      "text/html": [
       "<div>\n",
       "<style scoped>\n",
       "    .dataframe tbody tr th:only-of-type {\n",
       "        vertical-align: middle;\n",
       "    }\n",
       "\n",
       "    .dataframe tbody tr th {\n",
       "        vertical-align: top;\n",
       "    }\n",
       "\n",
       "    .dataframe thead th {\n",
       "        text-align: right;\n",
       "    }\n",
       "</style>\n",
       "<table border=\"1\" class=\"dataframe\">\n",
       "  <thead>\n",
       "    <tr style=\"text-align: right;\">\n",
       "      <th></th>\n",
       "      <th>year_of_release</th>\n",
       "      <th>title</th>\n",
       "    </tr>\n",
       "    <tr>\n",
       "      <th>movie_id</th>\n",
       "      <th></th>\n",
       "      <th></th>\n",
       "    </tr>\n",
       "  </thead>\n",
       "  <tbody>\n",
       "    <tr>\n",
       "      <th>1</th>\n",
       "      <td>2003.0</td>\n",
       "      <td>Dinosaur Planet</td>\n",
       "    </tr>\n",
       "    <tr>\n",
       "      <th>2</th>\n",
       "      <td>2004.0</td>\n",
       "      <td>Isle of Man TT 2004 Review</td>\n",
       "    </tr>\n",
       "  </tbody>\n",
       "</table>\n",
       "</div>"
      ],
      "text/plain": [
       "          year_of_release                       title\n",
       "movie_id                                             \n",
       "1                  2003.0             Dinosaur Planet\n",
       "2                  2004.0  Isle of Man TT 2004 Review"
      ]
     },
     "execution_count": 46,
     "metadata": {},
     "output_type": "execute_result"
    }
   ],
   "source": [
    "movie_titles = pd.read_csv(\"movie_titles.csv\", sep=',', header = None,\n",
    "                           names=['movie_id', 'year_of_release', 'title'], verbose=True,\n",
    "                      index_col = 'movie_id', encoding = \"ISO-8859-1\")\n",
    "\n",
    "movie_titles.head(2)"
   ]
  },
  {
   "cell_type": "code",
   "execution_count": 48,
   "metadata": {},
   "outputs": [
    {
     "name": "stdout",
     "output_type": "stream",
     "text": [
      "\n",
      "Movie -----> Vampire Journals\n",
      "\n",
      "It has 270 Ratings from users.\n",
      "\n",
      "We have 17284 movies which are similar to this  and we will get only top most..\n"
     ]
    }
   ],
   "source": [
    "mv_id = 67\n",
    "\n",
    "print(\"\\nMovie ----->\",movie_titles.loc[mv_id].values[1])\n",
    "\n",
    "print(\"\\nIt has {} Ratings from users.\".format(train_sparse_matrix[:,mv_id].getnnz()))\n",
    "\n",
    "print(\"\\nWe have {} movies which are similar to this  and we will get only top most..\".format(m_m_sim_sparse[:,mv_id].getnnz()))"
   ]
  },
  {
   "cell_type": "code",
   "execution_count": 49,
   "metadata": {},
   "outputs": [],
   "source": [
    "similarities = m_m_sim_sparse[mv_id].toarray().ravel()\n",
    "\n",
    "similar_indices = similarities.argsort()[::-1][1:]\n",
    "\n",
    "similarities[similar_indices]\n",
    "\n",
    "sim_indices = similarities.argsort()[::-1][1:]"
   ]
  },
  {
   "cell_type": "code",
   "execution_count": 50,
   "metadata": {},
   "outputs": [
    {
     "data": {
      "image/png": "[encoded data removed]",
      "text/plain": [
       "<Figure size 432x288 with 1 Axes>"
      ]
     },
     "metadata": {},
     "output_type": "display_data"
    }
   ],
   "source": [
    "plt.plot(similarities[sim_indices], label='All the ratings')\n",
    "plt.plot(similarities[sim_indices[:100]], label='top 100 similar movies')\n",
    "plt.title(\"Similar Movies of {}(movie_id)\".format(mv_id), fontsize=20)\n",
    "plt.xlabel(\"Movies (Not Movie_Ids)\", fontsize=15)\n",
    "plt.ylabel(\"Cosine Similarity\",fontsize=15)\n",
    "plt.legend()\n",
    "plt.show()"
   ]
  },
  {
   "cell_type": "code",
   "execution_count": 58,
   "metadata": {},
   "outputs": [
    {
     "name": "stdout",
     "output_type": "stream",
     "text": [
      "+--------------------------------------------------+\n",
      "| 10 most similar movies of Vampire Journals are:  |\n",
      "+--------------------------------------------------+\n",
      "|                 Modern Vampires                  |\n",
      "|                                                  |\n",
      "|             Subspecies 4: Bloodstorm             |\n",
      "|                                                  |\n",
      "|             To Sleep With a Vampire              |\n",
      "|                                                  |\n",
      "|             Dracula: The Dark Prince             |\n",
      "|                                                  |\n",
      "|                  Dracula Rising                  |\n",
      "|                                                  |\n",
      "|              Vampires: Los Muertos               |\n",
      "|                                                  |\n",
      "|                    Vampirella                    |\n",
      "|                                                  |\n",
      "|                   Club Vampire                   |\n",
      "|                                                  |\n",
      "|                    The Breed                     |\n",
      "|                                                  |\n",
      "|              Dracula II: Ascension               |\n",
      "|                                                  |\n",
      "+--------------------------------------------------+\n"
     ]
    }
   ],
   "source": [
    "x = PrettyTable()\n",
    "x.field_names=[ '10 most similar movies of Vampire Journals are: ']\n",
    "for i in sim_indices[:10]:\n",
    "    x.add_row([movie_titles['title'].loc[i]+\"\\n\"])\n",
    "print(x)    "
   ]
  },
  {
   "cell_type": "markdown",
   "metadata": {},
   "source": [
    " <h1>   Machine Learning Models </h1>"
   ]
  },
  {
   "cell_type": "code",
   "execution_count": 18,
   "metadata": {},
   "outputs": [],
   "source": [
    "def get_sample_sparse_matrix(sparse_matrix, no_users, no_movies, verbose = True):\n",
    "    \"\"\"\n",
    "        It will get it from the ''path'' if it is present  or It will create \n",
    "        and store the sampled sparse matrix in the path specified.\n",
    "    \"\"\"\n",
    "\n",
    "    # get (row, col) and (rating) tuple from sparse_matrix...\n",
    "    row_ind, col_ind, ratings = sparse.find(sparse_matrix)\n",
    "    users = np.unique(row_ind)\n",
    "    movies = np.unique(col_ind)\n",
    "\n",
    "    print(\"Original Matrix : (users, movies) -- ({} {})\".format(len(users), len(movies)))\n",
    "    print(\"Original Matrix : Ratings -- {}\\n\".format(len(ratings)))\n",
    "\n",
    "    # It just to make sure to get same sample everytime we run this program..\n",
    "    # and pick without replacement....\n",
    "    np.random.seed(15)\n",
    "    sample_users = np.random.choice(users, no_users, replace=False)\n",
    "    sample_movies = np.random.choice(movies, no_movies, replace=False)\n",
    "    # get the boolean mask or these sampled_items in originl row/col_inds..\n",
    "    mask = np.logical_and( np.isin(row_ind, sample_users),\n",
    "                      np.isin(col_ind, sample_movies) )\n",
    "    \n",
    "    sample_sparse_matrix = sparse.csr_matrix((ratings[mask], (row_ind[mask], col_ind[mask])),\n",
    "                                             shape=(max(sample_users)+1, max(sample_movies)+1))\n",
    "\n",
    "    if verbose:\n",
    "        print(\"Sampled Matrix : (users, movies) -- ({} {})\".format(len(sample_users), len(sample_movies)))\n",
    "        print(\"Sampled Matrix : Ratings --\", format(ratings[mask].shape[0]))\n",
    "\n",
    "    if verbose:\n",
    "            print('Done..\\n')\n",
    "    \n",
    "    return sample_sparse_matrix"
   ]
  },
  {
   "cell_type": "markdown",
   "metadata": {},
   "source": [
    "<h2> Sampling Train Data </h2>"
   ]
  },
  {
   "cell_type": "code",
   "execution_count": 4,
   "metadata": {},
   "outputs": [],
   "source": [
    "if os.path.isfile('train_sparse_matrix.npz'):\n",
    "    train_sparse_matrix = sparse.load_npz('train_sparse_matrix.npz')"
   ]
  },
  {
   "cell_type": "code",
   "execution_count": 5,
   "metadata": {},
   "outputs": [
    {
     "name": "stdout",
     "output_type": "stream",
     "text": [
      "Original Matrix : (users, movies) -- (405041 17424)\n",
      "Original Matrix : Ratings -- 80384405\n",
      "\n",
      "Sampled Matrix : (users, movies) -- (25000 3000)\n",
      "Sampled Matrix : Ratings -- 856986\n",
      "Done..\n",
      "\n"
     ]
    }
   ],
   "source": [
    "sample_train_sparse_matrix = get_sample_sparse_matrix(train_sparse_matrix, no_users=25000, no_movies=3000)"
   ]
  },
  {
   "cell_type": "code",
   "execution_count": 6,
   "metadata": {},
   "outputs": [],
   "source": [
    "import pickle as pkl\n",
    "with open(\"train_sample.pkl\",'wb') as f:\n",
    "    pkl.dump([sample_train_sparse_matrix],f)"
   ]
  },
  {
   "cell_type": "markdown",
   "metadata": {},
   "source": [
    "<h2> Featurizing train data </h2>"
   ]
  },
  {
   "cell_type": "markdown",
   "metadata": {},
   "source": [
    "<h3> Finding Global Average of all movie ratings, Average rating per User, and Average rating per Movie (from sampled train)</h3>"
   ]
  },
  {
   "cell_type": "code",
   "execution_count": 7,
   "metadata": {},
   "outputs": [],
   "source": [
    "train_sparse_matrix = sample_train_sparse_matrix\n",
    "train_averages = dict()\n",
    "global_average = train_sparse_matrix.sum()/train_sparse_matrix.count_nonzero()\n",
    "train_averages['global'] = global_average\n",
    "train_averages['user'] = get_average_ratings(train_sparse_matrix, of_users=True)\n",
    "train_averages['movie'] =  get_average_ratings(train_sparse_matrix, of_users=False)"
   ]
  },
  {
   "cell_type": "markdown",
   "metadata": {},
   "source": [
    "#### Pre-processing steps for multi threading"
   ]
  },
  {
   "cell_type": "code",
   "execution_count": 8,
   "metadata": {},
   "outputs": [],
   "source": [
    "tuple_of_user_movie_and_corresponding_rating = sparse.find(train_sparse_matrix)\n",
    "array_of_user_movie_and_corresponding_rating = np.array( tuple_of_user_movie_and_corresponding_rating )\n",
    "array_of_user_movie_and_corresponding_rating = array_of_user_movie_and_corresponding_rating.T\n",
    "\n",
    "#threshold for multiprocessing\n",
    "threshold= int(np.shape(array_of_user_movie_and_corresponding_rating)[0]/24)"
   ]
  },
  {
   "cell_type": "code",
   "execution_count": 10,
   "metadata": {},
   "outputs": [],
   "source": [
    "import multiprocessing\n",
    "from multiprocessing import Process\n",
    "\n",
    "subset_1 = array_of_user_movie_and_corresponding_rating[0*threshold:1*threshold]\n",
    "subset_2 = array_of_user_movie_and_corresponding_rating[1*threshold:2*threshold]\n",
    "subset_3 = array_of_user_movie_and_corresponding_rating[2*threshold:3*threshold]\n",
    "subset_4 = array_of_user_movie_and_corresponding_rating[3*threshold:4*threshold]\n",
    "subset_5 = array_of_user_movie_and_corresponding_rating[4*threshold:5*threshold]\n",
    "subset_6 = array_of_user_movie_and_corresponding_rating[5*threshold:6*threshold]\n",
    "subset_7 = array_of_user_movie_and_corresponding_rating[6*threshold:7*threshold]\n",
    "subset_8 = array_of_user_movie_and_corresponding_rating[7*threshold:8*threshold]\n",
    "subset_9 = array_of_user_movie_and_corresponding_rating[8*threshold:9*threshold]\n",
    "subset_10 = array_of_user_movie_and_corresponding_rating[9*threshold:10*threshold]\n",
    "subset_11 = array_of_user_movie_and_corresponding_rating[10*threshold:11*threshold]\n",
    "subset_12 = array_of_user_movie_and_corresponding_rating[11*threshold:12*threshold]\n",
    "subset_13 = array_of_user_movie_and_corresponding_rating[12*threshold:13*threshold]\n",
    "subset_14 = array_of_user_movie_and_corresponding_rating[13*threshold:14*threshold]\n",
    "subset_15 = array_of_user_movie_and_corresponding_rating[14*threshold:15*threshold]\n",
    "subset_16 = array_of_user_movie_and_corresponding_rating[15*threshold:16*threshold]\n",
    "subset_17 = array_of_user_movie_and_corresponding_rating[16*threshold:17*threshold]\n",
    "subset_18 = array_of_user_movie_and_corresponding_rating[17*threshold:18*threshold]\n",
    "subset_19 = array_of_user_movie_and_corresponding_rating[18*threshold:19*threshold]\n",
    "subset_20 = array_of_user_movie_and_corresponding_rating[19*threshold:20*threshold]\n",
    "subset_21 = array_of_user_movie_and_corresponding_rating[20*threshold:21*threshold]\n",
    "subset_22= array_of_user_movie_and_corresponding_rating[21*threshold:22*threshold]\n",
    "subset_23 = array_of_user_movie_and_corresponding_rating[22*threshold:23*threshold]\n",
    "subset_24 = array_of_user_movie_and_corresponding_rating[23*threshold:]"
   ]
  },
  {
   "cell_type": "markdown",
   "metadata": {},
   "source": [
    "### featurizing train data by multi threading"
   ]
  },
  {
   "cell_type": "code",
   "execution_count": null,
   "metadata": {
    "scrolled": false
   },
   "outputs": [
    {
     "name": "stderr",
     "output_type": "stream",
     "text": [
      " 13%|█▎        | 4552/35707 [1:20:09<13:13:26,  1.53s/it] IOPub message rate exceeded.\n",
      "The notebook server will temporarily stop sending output\n",
      "to the client in order to avoid crashing it.\n",
      "To change this limit, set the config variable\n",
      "`--NotebookApp.iopub_msg_rate_limit`.\n",
      "\n",
      "Current values:\n",
      "NotebookApp.iopub_msg_rate_limit=1000.0 (msgs/sec)\n",
      "NotebookApp.rate_limit_window=3.0 (secs)\n",
      "\n",
      " 14%|█▍        | 4964/35707 [1:26:32<10:40:37,  1.25s/it]IOPub message rate exceeded.\n",
      "The notebook server will temporarily stop sending output\n",
      "to the client in order to avoid crashing it.\n",
      "To change this limit, set the config variable\n",
      "`--NotebookApp.iopub_msg_rate_limit`.\n",
      "\n",
      "Current values:\n",
      "NotebookApp.iopub_msg_rate_limit=1000.0 (msgs/sec)\n",
      "NotebookApp.rate_limit_window=3.0 (secs)\n",
      "\n",
      " 15%|█▍        | 5259/35707 [1:31:50<7:41:38,  1.10it/s] IOPub message rate exceeded.\n",
      "The notebook server will temporarily stop sending output\n",
      "to the client in order to avoid crashing it.\n",
      "To change this limit, set the config variable\n",
      "`--NotebookApp.iopub_msg_rate_limit`.\n",
      "\n",
      "Current values:\n",
      "NotebookApp.iopub_msg_rate_limit=1000.0 (msgs/sec)\n",
      "NotebookApp.rate_limit_window=3.0 (secs)\n",
      "\n",
      " 16%|█▌        | 5615/35707 [1:36:56<6:59:43,  1.19it/s]]IOPub message rate exceeded.\n",
      "The notebook server will temporarily stop sending output\n",
      "to the client in order to avoid crashing it.\n",
      "To change this limit, set the config variable\n",
      "`--NotebookApp.iopub_msg_rate_limit`.\n",
      "\n",
      "Current values:\n",
      "NotebookApp.iopub_msg_rate_limit=1000.0 (msgs/sec)\n",
      "NotebookApp.rate_limit_window=3.0 (secs)\n",
      "\n",
      " 16%|█▋        | 5842/35707 [1:41:57<7:19:32,  1.13it/s]]IOPub message rate exceeded.\n",
      "The notebook server will temporarily stop sending output\n",
      "to the client in order to avoid crashing it.\n",
      "To change this limit, set the config variable\n",
      "`--NotebookApp.iopub_msg_rate_limit`.\n",
      "\n",
      "Current values:\n",
      "NotebookApp.iopub_msg_rate_limit=1000.0 (msgs/sec)\n",
      "NotebookApp.rate_limit_window=3.0 (secs)\n",
      "\n",
      " 84%|████████▍ | 29936/35707 [8:59:56<1:27:38,  1.10it/s]  "
     ]
    }
   ],
   "source": [
    "from tqdm import tqdm\n",
    "from datetime import datetime\n",
    "import time\n",
    "\n",
    "def featurizing_train_data(subset,user_user_similairity_dict,movie_movie_similarity_dict,i):\n",
    "    try :\n",
    "        \n",
    "        j = i + 1\n",
    "\n",
    "        if os.path.isfile('train_csv_files/reg_train'+str(j)+'.csv'):\n",
    "            print(\"File already exists you don't have to prepare again...\" )\n",
    "        else:\n",
    "            with open('train_csv_files/reg_train'+str(j)+'.csv', mode='w') as reg_data_file:\n",
    "                start = time.time()\n",
    "                \n",
    "                for user_movie_rating in tqdm(subset):\n",
    "                    if time.time()-start >79000 : #runs for 22 hrs\n",
    "                        break\n",
    "                    user = user_movie_rating[0]\n",
    "                    movie = user_movie_rating[1]\n",
    "                    rating = user_movie_rating[2]\n",
    "                                    \n",
    "                    try :\n",
    "                        top_sim_users = user_user_similairity_dict[user]\n",
    "                        top_sim_users = np.array(top_sim_users)\n",
    "                    \n",
    "                    except KeyError:\n",
    "            \n",
    "                        # the similarity of Users of the \"user\"        \n",
    "                        user_sim = cosine_similarity(train_sparse_matrix[user], train_sparse_matrix).ravel()\n",
    "                        top_sim_users = user_sim.argsort()[::-1][1:10000]\n",
    "                        user_user_similairity_dict.update({user: list(top_sim_users)})\n",
    "                           \n",
    "                    top_ratings = train_sparse_matrix[top_sim_users, movie].toarray().ravel()\n",
    "                    top_sim_users_ratings = list(top_ratings[top_ratings != 0][:5])\n",
    "                    top_sim_users_ratings.extend([train_averages['movie'][movie]]*(5 - len(top_sim_users_ratings)))\n",
    "                                 \n",
    "                    try :\n",
    "                        top_sim_movies = movie_movie_similarity_dict[movie]\n",
    "                        top_sim_movies = np.array(top_sim_movies)\n",
    "                                     \n",
    "                    except KeyError:\n",
    "                    \n",
    "                        # compute the similar movies of the \"movie\"        \n",
    "                        movie_sim = cosine_similarity(train_sparse_matrix[:,movie].T, train_sparse_matrix.T).ravel()\n",
    "                        top_sim_movies = movie_sim.argsort()[::-1][1:1000] \n",
    "                        movie_movie_similarity_dict.update({movie:list(top_sim_movies)})\n",
    "                               \n",
    "                    top_ratings = train_sparse_matrix[user, top_sim_movies].toarray().ravel()\n",
    "                    top_sim_movies_ratings = list(top_ratings[top_ratings != 0][:5])\n",
    "                    top_sim_movies_ratings.extend([train_averages['user'][user]] * (5-len(top_sim_movies_ratings))) \n",
    "\n",
    "                    #----------------- stores in a file-----------------#\n",
    "                    row = list()\n",
    "                    row.append(user)\n",
    "                    row.append(movie)\n",
    "                    row.append(train_averages['global']) # writing features\n",
    "                    row.extend(top_sim_users_ratings)\n",
    "                    row.extend(top_sim_movies_ratings)\n",
    "                    row.append(train_averages['user'][user])\n",
    "                    row.append(train_averages['movie'][movie])\n",
    "\n",
    "                    # finally, The actual Rating of this user-movie pair.\n",
    "                    row.append(rating)\n",
    "\n",
    "                    reg_data_file.write(','.join(map(str, row)))\n",
    "                    reg_data_file.write('\\n')  \n",
    "                \n",
    "                \n",
    "    except MemoryError:\n",
    "        print(\"Memory is full !!!\")  \n",
    "\n",
    "        \n",
    "\n",
    "def main():\n",
    "    \n",
    "\n",
    "    manager = multiprocessing.Manager()\n",
    "    user_user_similairity_dict = manager.dict({})\n",
    "    movie_movie_similarity_dict = manager.dict({})\n",
    "    \n",
    "    \n",
    "    \n",
    "    \n",
    "    p1  =Process(target=featurizing_train_data,args=(subset_1,user_user_similairity_dict,movie_movie_similarity_dict,0))\n",
    "    p2  =Process(target=featurizing_train_data,args=(subset_2,user_user_similairity_dict,movie_movie_similarity_dict,1))\n",
    "    p3  =Process(target=featurizing_train_data,args=(subset_3,user_user_similairity_dict,movie_movie_similarity_dict,2))\n",
    "    p4  =Process(target=featurizing_train_data,args=(subset_4,user_user_similairity_dict,movie_movie_similarity_dict,3))\n",
    "    p5  =Process(target=featurizing_train_data,args=(subset_5,user_user_similairity_dict,movie_movie_similarity_dict,4))\n",
    "    p6  =Process(target=featurizing_train_data,args=(subset_6,user_user_similairity_dict,movie_movie_similarity_dict,5))\n",
    "    p7  =Process(target=featurizing_train_data,args=(subset_7,user_user_similairity_dict,movie_movie_similarity_dict,6))\n",
    "    p8  =Process(target=featurizing_train_data,args=(subset_8,user_user_similairity_dict,movie_movie_similarity_dict,7))\n",
    "    p9  =Process(target=featurizing_train_data,args=(subset_9,user_user_similairity_dict,movie_movie_similarity_dict,8))\n",
    "    p10  =Process(target=featurizing_train_data,args=(subset_10,user_user_similairity_dict,movie_movie_similarity_dict,9))\n",
    "    p11  =Process(target=featurizing_train_data,args=(subset_11,user_user_similairity_dict,movie_movie_similarity_dict,10))\n",
    "    p12  =Process(target=featurizing_train_data,args=(subset_12,user_user_similairity_dict,movie_movie_similarity_dict,11))\n",
    "    p13  =Process(target=featurizing_train_data,args=(subset_13,user_user_similairity_dict,movie_movie_similarity_dict,12))\n",
    "    p14  =Process(target=featurizing_train_data,args=(subset_14,user_user_similairity_dict,movie_movie_similarity_dict,13))\n",
    "    p15  =Process(target=featurizing_train_data,args=(subset_15,user_user_similairity_dict,movie_movie_similarity_dict,14))\n",
    "    p16  =Process(target=featurizing_train_data,args=(subset_16,user_user_similairity_dict,movie_movie_similarity_dict,15))\n",
    "    p17  =Process(target=featurizing_train_data,args=(subset_17,user_user_similairity_dict,movie_movie_similarity_dict,16))\n",
    "    p18  =Process(target=featurizing_train_data,args=(subset_18,user_user_similairity_dict,movie_movie_similarity_dict,17))\n",
    "    p19  =Process(target=featurizing_train_data,args=(subset_19,user_user_similairity_dict,movie_movie_similarity_dict,18))\n",
    "    p20  =Process(target=featurizing_train_data,args=(subset_20,user_user_similairity_dict,movie_movie_similarity_dict,19))\n",
    "    p21  =Process(target=featurizing_train_data,args=(subset_21,user_user_similairity_dict,movie_movie_similarity_dict,20))\n",
    "    p22  =Process(target=featurizing_train_data,args=(subset_22,user_user_similairity_dict,movie_movie_similarity_dict,21))\n",
    "    p23  =Process(target=featurizing_train_data,args=(subset_23,user_user_similairity_dict,movie_movie_similarity_dict,22))\n",
    "    p24  =Process(target=featurizing_train_data,args=(subset_24,user_user_similairity_dict,movie_movie_similarity_dict,23))\n",
    "    \n",
    "    p1.start()\n",
    "    p2.start()\n",
    "    p3.start()\n",
    "    p4.start()\n",
    "    p5.start()\n",
    "    p6.start()\n",
    "    p7.start()\n",
    "    p8.start()\n",
    "    p9.start()\n",
    "    p10.start()\n",
    "    p11.start()\n",
    "    p12.start()\n",
    "    p13.start()\n",
    "    p14.start()\n",
    "    p15.start()\n",
    "    p16.start()\n",
    "    p17.start()\n",
    "    p18.start()\n",
    "    p19.start()\n",
    "    p20.start()\n",
    "    p21.start()\n",
    "    p22.start()\n",
    "    p23.start()\n",
    "    p24.start()\n",
    "    \n",
    "    \n",
    "    p1.join()\n",
    "    p2.join()\n",
    "    p3.join()\n",
    "    p4.join()\n",
    "    p5.join()\n",
    "    p6.join()\n",
    "    p7.join()\n",
    "    p8.join()\n",
    "    p9.join()\n",
    "    p10.join()\n",
    "    p11.join()\n",
    "    p12.join()\n",
    "    p13.join()\n",
    "    p14.join()\n",
    "    p15.join()\n",
    "    p16.join()\n",
    "    p17.join()\n",
    "    p18.join()\n",
    "    p19.join()\n",
    "    p20.join()\n",
    "    p21.join()\n",
    "    p22.join()\n",
    "    p23.join()\n",
    "    p24.join()\n",
    "    \n",
    "    return user_user_similairity_dict,movie_movie_similarity_dict\n",
    "\n",
    "    \n",
    "            \n",
    "if __name__ == \"__main__\" :\n",
    "    user_user_similairity_dict,movie_movie_similarity_dict = main()\n",
    "\n",
    "#kernal was lost in GCP   "
   ]
  },
  {
   "cell_type": "markdown",
   "metadata": {},
   "source": [
    "### featurizing remaining samples of train dataset as the kernal was lost."
   ]
  },
  {
   "cell_type": "code",
   "execution_count": 7,
   "metadata": {},
   "outputs": [],
   "source": [
    "import pickle as pkl\n",
    "with open(\"train_sample.pkl\",'rb') as f:\n",
    "    [sample_train_sparse_matrix] = pkl.load(f)"
   ]
  },
  {
   "cell_type": "code",
   "execution_count": 8,
   "metadata": {},
   "outputs": [],
   "source": [
    "train_sparse_matrix = sample_train_sparse_matrix\n",
    "train_averages = dict()\n",
    "global_average = train_sparse_matrix.sum()/train_sparse_matrix.count_nonzero()\n",
    "train_averages['global'] = global_average\n",
    "train_averages['user'] = get_average_ratings(train_sparse_matrix, of_users=True)\n",
    "train_averages['movie'] =  get_average_ratings(train_sparse_matrix, of_users=False)"
   ]
  },
  {
   "cell_type": "markdown",
   "metadata": {},
   "source": [
    "### Pre-processing for multi threading."
   ]
  },
  {
   "cell_type": "code",
   "execution_count": 9,
   "metadata": {},
   "outputs": [],
   "source": [
    "tuple_of_user_movie_and_corresponding_rating = sparse.find(train_sparse_matrix)\n",
    "array_of_user_movie_and_corresponding_rating = np.array( tuple_of_user_movie_and_corresponding_rating )\n",
    "array_of_user_movie_and_corresponding_rating = array_of_user_movie_and_corresponding_rating.T\n",
    "\n",
    "#threshold for multiprocessing\n",
    "threshold= int(np.shape(array_of_user_movie_and_corresponding_rating)[0]/24)"
   ]
  },
  {
   "cell_type": "code",
   "execution_count": 10,
   "metadata": {},
   "outputs": [],
   "source": [
    "import multiprocessing\n",
    "from multiprocessing import Process\n",
    "\n",
    "subset_1 = array_of_user_movie_and_corresponding_rating[0*threshold:1*threshold]\n",
    "subset_2 = array_of_user_movie_and_corresponding_rating[1*threshold:2*threshold]\n",
    "subset_3 = array_of_user_movie_and_corresponding_rating[2*threshold:3*threshold]\n",
    "subset_4 = array_of_user_movie_and_corresponding_rating[3*threshold:4*threshold]\n",
    "subset_5 = array_of_user_movie_and_corresponding_rating[4*threshold:5*threshold]\n",
    "subset_6 = array_of_user_movie_and_corresponding_rating[5*threshold:6*threshold]\n",
    "subset_7 = array_of_user_movie_and_corresponding_rating[6*threshold:7*threshold]\n",
    "subset_8 = array_of_user_movie_and_corresponding_rating[7*threshold:8*threshold]\n",
    "subset_9 = array_of_user_movie_and_corresponding_rating[8*threshold:9*threshold]\n",
    "subset_10 = array_of_user_movie_and_corresponding_rating[9*threshold:10*threshold]\n",
    "subset_11 = array_of_user_movie_and_corresponding_rating[10*threshold:11*threshold]\n",
    "subset_12 = array_of_user_movie_and_corresponding_rating[11*threshold:12*threshold]\n",
    "subset_13 = array_of_user_movie_and_corresponding_rating[12*threshold:13*threshold]\n",
    "subset_14 = array_of_user_movie_and_corresponding_rating[13*threshold:14*threshold]\n",
    "subset_15 = array_of_user_movie_and_corresponding_rating[14*threshold:15*threshold]\n",
    "subset_16 = array_of_user_movie_and_corresponding_rating[15*threshold:16*threshold]\n",
    "subset_17 = array_of_user_movie_and_corresponding_rating[16*threshold:17*threshold]\n",
    "subset_18 = array_of_user_movie_and_corresponding_rating[17*threshold:18*threshold]\n",
    "subset_19 = array_of_user_movie_and_corresponding_rating[18*threshold:19*threshold]\n",
    "subset_20 = array_of_user_movie_and_corresponding_rating[19*threshold:20*threshold]\n",
    "subset_21 = array_of_user_movie_and_corresponding_rating[20*threshold:21*threshold]\n",
    "subset_22= array_of_user_movie_and_corresponding_rating[21*threshold:22*threshold]\n",
    "subset_23 = array_of_user_movie_and_corresponding_rating[22*threshold:23*threshold]\n",
    "subset_24 = array_of_user_movie_and_corresponding_rating[23*threshold:]"
   ]
  },
  {
   "cell_type": "markdown",
   "metadata": {},
   "source": [
    "### Retrieving  samples that were not computed due to kernel interruption."
   ]
  },
  {
   "cell_type": "code",
   "execution_count": 12,
   "metadata": {},
   "outputs": [],
   "source": [
    "subset_1 = subset_1[pd.read_csv(\"train_csv_files/reg_train1.csv\").shape[0]:]\n",
    "subset_2 = subset_2[pd.read_csv(\"train_csv_files/reg_train2.csv\").shape[0]:]\n",
    "subset_3 = subset_3[pd.read_csv(\"train_csv_files/reg_train3.csv\").shape[0]:]\n",
    "subset_4 = subset_4[pd.read_csv(\"train_csv_files/reg_train4.csv\").shape[0]:]\n",
    "subset_5 = subset_5[pd.read_csv(\"train_csv_files/reg_train5.csv\").shape[0]:]\n",
    "subset_6 = subset_6[pd.read_csv(\"train_csv_files/reg_train6.csv\").shape[0]:]\n",
    "subset_7 = subset_7[pd.read_csv(\"train_csv_files/reg_train7.csv\").shape[0]:]\n",
    "subset_8 = subset_8[pd.read_csv(\"train_csv_files/reg_train8.csv\").shape[0]:]\n",
    "subset_9 = subset_9[pd.read_csv(\"train_csv_files/reg_train9.csv\").shape[0]:]\n",
    "subset_10 = subset_10[pd.read_csv(\"train_csv_files/reg_train10.csv\").shape[0]:]\n",
    "subset_11 = subset_11[pd.read_csv(\"train_csv_files/reg_train11.csv\").shape[0]:]\n",
    "subset_12 = subset_12[pd.read_csv(\"train_csv_files/reg_train12.csv\").shape[0]:]\n",
    "subset_13 = subset_13[pd.read_csv(\"train_csv_files/reg_train13.csv\").shape[0]:] \n",
    "subset_14 = subset_14[pd.read_csv(\"train_csv_files/reg_train14.csv\").shape[0]:]\n",
    "subset_15 = subset_15[pd.read_csv(\"train_csv_files/reg_train15.csv\").shape[0]:]\n",
    "subset_16 = subset_16[pd.read_csv(\"train_csv_files/reg_train16.csv\").shape[0]:]\n",
    "subset_17 = subset_17[pd.read_csv(\"train_csv_files/reg_train17.csv\").shape[0]:]\n",
    "subset_18 = subset_18[pd.read_csv(\"train_csv_files/reg_train18.csv\").shape[0]:]\n",
    "subset_19 = subset_19[pd.read_csv(\"train_csv_files/reg_train19.csv\").shape[0]:]\n",
    "subset_20 = subset_20[pd.read_csv(\"train_csv_files/reg_train20.csv\").shape[0]:]\n",
    "subset_21 = subset_21[pd.read_csv(\"train_csv_files/reg_train21.csv\").shape[0]:]\n",
    "subset_22 = subset_22[pd.read_csv(\"train_csv_files/reg_train22.csv\").shape[0]:]\n",
    "subset_23 = subset_23[pd.read_csv(\"train_csv_files/reg_train23.csv\").shape[0]:]\n",
    "subset_24 = subset_24[pd.read_csv(\"train_csv_files/reg_train24.csv\").shape[0]:]"
   ]
  },
  {
   "cell_type": "markdown",
   "metadata": {},
   "source": [
    "### featurizing remaining samples of train data by multi threading"
   ]
  },
  {
   "cell_type": "code",
   "execution_count": 15,
   "metadata": {},
   "outputs": [
    {
     "name": "stderr",
     "output_type": "stream",
     "text": [
      " 97%|█████████▋| 5442/5598 [1:29:53<03:15,  1.26s/it]  \n",
      " 97%|█████████▋| 5386/5577 [1:30:14<03:03,  1.04it/s]\n",
      " 94%|█████████▍| 5276/5588 [1:30:53<06:08,  1.18s/it]\n",
      " 99%|█████████▊| 5597/5673 [1:32:22<01:18,  1.03s/it]\n",
      "100%|██████████| 5577/5577 [1:33:14<00:00,  1.06s/it]\n",
      "100%|██████████| 5672/5672 [1:33:21<00:00,  1.26it/s]\n",
      "100%|██████████| 5647/5647 [1:33:23<00:00,  1.45it/s]\n",
      " 95%|█████████▌| 5590/5881 [1:33:27<04:15,  1.14it/s]\n",
      "100%|██████████| 5679/5679 [1:33:32<00:00,  1.45it/s]\n",
      "100%|██████████| 5632/5632 [1:33:37<00:00,  1.55it/s]\n",
      " 94%|█████████▎| 5549/5919 [1:33:46<03:50,  1.60it/s]\n",
      "100%|█████████▉| 5755/5758 [1:33:55<00:01,  1.86it/s]\n",
      "100%|██████████| 5758/5758 [1:33:57<00:00,  2.03it/s]\n",
      "100%|██████████| 5700/5700 [1:33:59<00:00,  1.81it/s]\n",
      "100%|██████████| 5678/5678 [1:34:12<00:00,  2.70it/s]\n",
      "100%|██████████| 5592/5592 [1:34:16<00:00,  2.36it/s]\n",
      "100%|██████████| 5557/5557 [1:34:22<00:00,  3.41it/s]\n",
      "100%|██████████| 5691/5691 [1:34:24<00:00,  2.94it/s]\n",
      "100%|██████████| 5588/5588 [1:34:29<00:00,  3.56it/s]\n",
      "100%|██████████| 5841/5841 [1:34:42<00:00,  5.39it/s]\n",
      "100%|██████████| 5880/5880 [1:34:57<00:00,  7.11it/s]\n",
      "100%|██████████| 5881/5881 [1:34:57<00:00,  6.92it/s]\n",
      "100%|██████████| 5955/5955 [1:34:59<00:00, 10.84it/s]\n",
      "100%|██████████| 5919/5919 [1:35:08<00:00, 15.08it/s]\n"
     ]
    }
   ],
   "source": [
    "from tqdm import tqdm\n",
    "from datetime import datetime\n",
    "import time\n",
    "\n",
    "def featurizing_train_data(subset,user_user_similairity_dict,movie_movie_similarity_dict,i):\n",
    "    try :\n",
    "        \n",
    "        j = i + 1\n",
    "\n",
    "        if os.path.isfile('train_csv_files_2/reg_train'+str(j)+'.csv'):\n",
    "            print(\"File already exists you don't have to prepare again...\" )\n",
    "        else:\n",
    "            with open('train_csv_files_2/reg_train'+str(j)+'.csv', mode='w') as reg_data_file:\n",
    "                start = time.time()\n",
    "                \n",
    "                for user_movie_rating in tqdm(subset):\n",
    "                    if time.time()-start >79000 : #runs for 22 hrs\n",
    "                        break\n",
    "                    user = user_movie_rating[0]\n",
    "                    movie = user_movie_rating[1]\n",
    "                    rating = user_movie_rating[2]\n",
    "                                    \n",
    "                    try :\n",
    "                        top_sim_users = user_user_similairity_dict[user]\n",
    "                        top_sim_users = np.array(top_sim_users)\n",
    "                    \n",
    "                    except KeyError:\n",
    "            \n",
    "                        # the similarity of Users of the \"user\"        \n",
    "                        user_sim = cosine_similarity(train_sparse_matrix[user], train_sparse_matrix).ravel()\n",
    "                        top_sim_users = user_sim.argsort()[::-1][1:10000]\n",
    "                        user_user_similairity_dict.update({user: list(top_sim_users)})\n",
    "                           \n",
    "                    top_ratings = train_sparse_matrix[top_sim_users, movie].toarray().ravel()\n",
    "                    top_sim_users_ratings = list(top_ratings[top_ratings != 0][:5])\n",
    "                    top_sim_users_ratings.extend([train_averages['movie'][movie]]*(5 - len(top_sim_users_ratings)))\n",
    "                                 \n",
    "                    try :\n",
    "                        top_sim_movies = movie_movie_similarity_dict[movie]\n",
    "                        top_sim_movies = np.array(top_sim_movies)\n",
    "                                     \n",
    "                    except KeyError:\n",
    "                    \n",
    "                        # compute the similar movies of the \"movie\"        \n",
    "                        movie_sim = cosine_similarity(train_sparse_matrix[:,movie].T, train_sparse_matrix.T).ravel()\n",
    "                        top_sim_movies = movie_sim.argsort()[::-1][1:1000] \n",
    "                        movie_movie_similarity_dict.update({movie:list(top_sim_movies)})\n",
    "                               \n",
    "                    top_ratings = train_sparse_matrix[user, top_sim_movies].toarray().ravel()\n",
    "                    top_sim_movies_ratings = list(top_ratings[top_ratings != 0][:5])\n",
    "                    top_sim_movies_ratings.extend([train_averages['user'][user]] * (5-len(top_sim_movies_ratings))) \n",
    "\n",
    "                    #----------------- stores in a file-----------------#\n",
    "                    row = list()\n",
    "                    row.append(user)\n",
    "                    row.append(movie)\n",
    "                    row.append(train_averages['global']) # writing features\n",
    "                    row.extend(top_sim_users_ratings)\n",
    "                    row.extend(top_sim_movies_ratings)\n",
    "                    row.append(train_averages['user'][user])\n",
    "                    row.append(train_averages['movie'][movie])\n",
    "\n",
    "                    # finally, The actual Rating of this user-movie pair.\n",
    "                    row.append(rating)\n",
    "\n",
    "                    reg_data_file.write(','.join(map(str, row)))\n",
    "                    reg_data_file.write('\\n')  \n",
    "                \n",
    "                \n",
    "    except MemoryError:\n",
    "        print(\"Memory is full !!!\")  \n",
    "\n",
    "        \n",
    "\n",
    "def main():\n",
    "    \n",
    "\n",
    "    manager = multiprocessing.Manager()\n",
    "    user_user_similairity_dict = manager.dict({})\n",
    "    movie_movie_similarity_dict = manager.dict({})\n",
    "    \n",
    "    \n",
    "    \n",
    "    \n",
    "    p1  =Process(target=featurizing_train_data,args=(subset_1,user_user_similairity_dict,movie_movie_similarity_dict,0))\n",
    "    p2  =Process(target=featurizing_train_data,args=(subset_2,user_user_similairity_dict,movie_movie_similarity_dict,1))\n",
    "    p3  =Process(target=featurizing_train_data,args=(subset_3,user_user_similairity_dict,movie_movie_similarity_dict,2))\n",
    "    p4  =Process(target=featurizing_train_data,args=(subset_4,user_user_similairity_dict,movie_movie_similarity_dict,3))\n",
    "    p5  =Process(target=featurizing_train_data,args=(subset_5,user_user_similairity_dict,movie_movie_similarity_dict,4))\n",
    "    p6  =Process(target=featurizing_train_data,args=(subset_6,user_user_similairity_dict,movie_movie_similarity_dict,5))\n",
    "    p7  =Process(target=featurizing_train_data,args=(subset_7,user_user_similairity_dict,movie_movie_similarity_dict,6))\n",
    "    p8  =Process(target=featurizing_train_data,args=(subset_8,user_user_similairity_dict,movie_movie_similarity_dict,7))\n",
    "    p9  =Process(target=featurizing_train_data,args=(subset_9,user_user_similairity_dict,movie_movie_similarity_dict,8))\n",
    "    p10  =Process(target=featurizing_train_data,args=(subset_10,user_user_similairity_dict,movie_movie_similarity_dict,9))\n",
    "    p11  =Process(target=featurizing_train_data,args=(subset_11,user_user_similairity_dict,movie_movie_similarity_dict,10))\n",
    "    p12  =Process(target=featurizing_train_data,args=(subset_12,user_user_similairity_dict,movie_movie_similarity_dict,11))\n",
    "    p13  =Process(target=featurizing_train_data,args=(subset_13,user_user_similairity_dict,movie_movie_similarity_dict,12))\n",
    "    p14  =Process(target=featurizing_train_data,args=(subset_14,user_user_similairity_dict,movie_movie_similarity_dict,13))\n",
    "    p15  =Process(target=featurizing_train_data,args=(subset_15,user_user_similairity_dict,movie_movie_similarity_dict,14))\n",
    "    p16  =Process(target=featurizing_train_data,args=(subset_16,user_user_similairity_dict,movie_movie_similarity_dict,15))\n",
    "    p17  =Process(target=featurizing_train_data,args=(subset_17,user_user_similairity_dict,movie_movie_similarity_dict,16))\n",
    "    p18  =Process(target=featurizing_train_data,args=(subset_18,user_user_similairity_dict,movie_movie_similarity_dict,17))\n",
    "    p19  =Process(target=featurizing_train_data,args=(subset_19,user_user_similairity_dict,movie_movie_similarity_dict,18))\n",
    "    p20  =Process(target=featurizing_train_data,args=(subset_20,user_user_similairity_dict,movie_movie_similarity_dict,19))\n",
    "    p21  =Process(target=featurizing_train_data,args=(subset_21,user_user_similairity_dict,movie_movie_similarity_dict,20))\n",
    "    p22  =Process(target=featurizing_train_data,args=(subset_22,user_user_similairity_dict,movie_movie_similarity_dict,21))\n",
    "    p23  =Process(target=featurizing_train_data,args=(subset_23,user_user_similairity_dict,movie_movie_similarity_dict,22))\n",
    "    p24  =Process(target=featurizing_train_data,args=(subset_24,user_user_similairity_dict,movie_movie_similarity_dict,23))\n",
    "    \n",
    "    p1.start()\n",
    "    p2.start()\n",
    "    p3.start()\n",
    "    p4.start()\n",
    "    p5.start()\n",
    "    p6.start()\n",
    "    p7.start()\n",
    "    p8.start()\n",
    "    p9.start()\n",
    "    p10.start()\n",
    "    p11.start()\n",
    "    p12.start()\n",
    "    p13.start()\n",
    "    p14.start()\n",
    "    p15.start()\n",
    "    p16.start()\n",
    "    p17.start()\n",
    "    p18.start()\n",
    "    p19.start()\n",
    "    p20.start()\n",
    "    p21.start()\n",
    "    p22.start()\n",
    "    p23.start()\n",
    "    p24.start()\n",
    "    \n",
    "    \n",
    "    p1.join()\n",
    "    p2.join()\n",
    "    p3.join()\n",
    "    p4.join()\n",
    "    p5.join()\n",
    "    p6.join()\n",
    "    p7.join()\n",
    "    p8.join()\n",
    "    p9.join()\n",
    "    p10.join()\n",
    "    p11.join()\n",
    "    p12.join()\n",
    "    p13.join()\n",
    "    p14.join()\n",
    "    p15.join()\n",
    "    p16.join()\n",
    "    p17.join()\n",
    "    p18.join()\n",
    "    p19.join()\n",
    "    p20.join()\n",
    "    p21.join()\n",
    "    p22.join()\n",
    "    p23.join()\n",
    "    p24.join()\n",
    "    \n",
    "    return user_user_similairity_dict,movie_movie_similarity_dict\n",
    "\n",
    "    \n",
    "            \n",
    "if __name__ == \"__main__\" :\n",
    "    user_user_similairity_dict,movie_movie_similarity_dict = main()\n",
    "\n",
    "   "
   ]
  },
  {
   "cell_type": "markdown",
   "metadata": {},
   "source": [
    "<h2> Sampling Test Data </h2>"
   ]
  },
  {
   "cell_type": "code",
   "execution_count": 41,
   "metadata": {},
   "outputs": [],
   "source": [
    "if os.path.isfile('test_sparse_matrix.npz'):\n",
    "    test_sparse_matrix = sparse.load_npz('test_sparse_matrix.npz')"
   ]
  },
  {
   "cell_type": "code",
   "execution_count": 42,
   "metadata": {},
   "outputs": [
    {
     "name": "stdout",
     "output_type": "stream",
     "text": [
      "Original Matrix : (users, movies) -- (349312 17757)\n",
      "Original Matrix : Ratings -- 20096102\n",
      "\n",
      "Sampled Matrix : (users, movies) -- (12500 1500)\n",
      "Sampled Matrix : Ratings -- 69407\n",
      "Done..\n",
      "\n"
     ]
    }
   ],
   "source": [
    "sample_test_sparse_matrix = get_sample_sparse_matrix(test_sparse_matrix, no_users=12500, no_movies=1500)"
   ]
  },
  {
   "cell_type": "code",
   "execution_count": 45,
   "metadata": {},
   "outputs": [],
   "source": [
    "with open(\"test_sample.pkl\",'wb') as f:\n",
    "    pkl.dump([sample_test_sparse_matrix],f)"
   ]
  },
  {
   "cell_type": "code",
   "execution_count": 3,
   "metadata": {},
   "outputs": [],
   "source": [
    "with open(\"test_sample.pkl\",'rb') as f:\n",
    "    [sample_test_sparse_matrix] = pkl.load(f)"
   ]
  },
  {
   "cell_type": "code",
   "execution_count": 4,
   "metadata": {},
   "outputs": [],
   "source": [
    "with open(\"train_sample.pkl\",'rb') as f:\n",
    "    [sample_train_sparse_matrix] = pkl.load(f)"
   ]
  },
  {
   "cell_type": "code",
   "execution_count": 5,
   "metadata": {},
   "outputs": [],
   "source": [
    "test_sparse_matrix = sample_test_sparse_matrix\n",
    "train_sparse_matrix = sample_train_sparse_matrix\n",
    "train_averages = dict()\n",
    "global_average = train_sparse_matrix.sum()/train_sparse_matrix.count_nonzero()\n",
    "train_averages['global'] = global_average\n",
    "train_averages['user'] = get_average_ratings(train_sparse_matrix, of_users=True)\n",
    "train_averages['movie'] =  get_average_ratings(train_sparse_matrix, of_users=False)"
   ]
  },
  {
   "cell_type": "markdown",
   "metadata": {},
   "source": [
    "### Pre-processing for multi threading."
   ]
  },
  {
   "cell_type": "code",
   "execution_count": 6,
   "metadata": {},
   "outputs": [],
   "source": [
    "tuple_of_user_movie_and_corresponding_rating = sparse.find(test_sparse_matrix)\n",
    "array_of_user_movie_and_corresponding_rating = np.array( tuple_of_user_movie_and_corresponding_rating )\n",
    "array_of_user_movie_and_corresponding_rating = array_of_user_movie_and_corresponding_rating.T\n",
    "threshold= int(np.shape(array_of_user_movie_and_corresponding_rating)[0]/24)"
   ]
  },
  {
   "cell_type": "code",
   "execution_count": 7,
   "metadata": {},
   "outputs": [],
   "source": [
    "import multiprocessing\n",
    "from multiprocessing import Process\n",
    "\n",
    "subset_1 = array_of_user_movie_and_corresponding_rating[0*threshold:1*threshold]\n",
    "subset_2 = array_of_user_movie_and_corresponding_rating[1*threshold:2*threshold]\n",
    "subset_3 = array_of_user_movie_and_corresponding_rating[2*threshold:3*threshold]\n",
    "subset_4 = array_of_user_movie_and_corresponding_rating[3*threshold:4*threshold]\n",
    "subset_5 = array_of_user_movie_and_corresponding_rating[4*threshold:5*threshold]\n",
    "subset_6 = array_of_user_movie_and_corresponding_rating[5*threshold:6*threshold]\n",
    "subset_7 = array_of_user_movie_and_corresponding_rating[6*threshold:7*threshold]\n",
    "subset_8 = array_of_user_movie_and_corresponding_rating[7*threshold:8*threshold]\n",
    "subset_9 = array_of_user_movie_and_corresponding_rating[8*threshold:9*threshold]\n",
    "subset_10 = array_of_user_movie_and_corresponding_rating[9*threshold:10*threshold]\n",
    "subset_11 = array_of_user_movie_and_corresponding_rating[10*threshold:11*threshold]\n",
    "subset_12 = array_of_user_movie_and_corresponding_rating[11*threshold:12*threshold]\n",
    "subset_13 = array_of_user_movie_and_corresponding_rating[12*threshold:13*threshold]\n",
    "subset_14 = array_of_user_movie_and_corresponding_rating[13*threshold:14*threshold]\n",
    "subset_15 = array_of_user_movie_and_corresponding_rating[14*threshold:15*threshold]\n",
    "subset_16 = array_of_user_movie_and_corresponding_rating[15*threshold:16*threshold]\n",
    "subset_17 = array_of_user_movie_and_corresponding_rating[16*threshold:17*threshold]\n",
    "subset_18 = array_of_user_movie_and_corresponding_rating[17*threshold:18*threshold]\n",
    "subset_19 = array_of_user_movie_and_corresponding_rating[18*threshold:19*threshold]\n",
    "subset_20 = array_of_user_movie_and_corresponding_rating[19*threshold:20*threshold]\n",
    "subset_21 = array_of_user_movie_and_corresponding_rating[20*threshold:21*threshold]\n",
    "subset_22= array_of_user_movie_and_corresponding_rating[21*threshold:22*threshold]\n",
    "subset_23 = array_of_user_movie_and_corresponding_rating[22*threshold:23*threshold]\n",
    "subset_24 = array_of_user_movie_and_corresponding_rating[23*threshold:]"
   ]
  },
  {
   "cell_type": "markdown",
   "metadata": {},
   "source": [
    "### featurizing test data by multi threading."
   ]
  },
  {
   "cell_type": "code",
   "execution_count": 45,
   "metadata": {
    "scrolled": false
   },
   "outputs": [
    {
     "name": "stderr",
     "output_type": "stream",
     "text": [
      "100%|██████████| 2891/2891 [44:46<00:00,  1.08s/it]  \n",
      "100%|██████████| 2891/2891 [45:17<00:00,  1.25it/s]\n",
      "100%|██████████| 2891/2891 [45:20<00:00,  1.56it/s]\n",
      "100%|██████████| 2891/2891 [45:21<00:00,  1.04s/it]\n",
      "100%|██████████| 2891/2891 [45:21<00:00,  1.76it/s]\n",
      "100%|██████████| 2891/2891 [45:22<00:00,  1.35it/s]\n",
      "100%|██████████| 2891/2891 [45:23<00:00,  1.92it/s]\n",
      "100%|██████████| 2891/2891 [45:28<00:00,  1.79it/s]\n",
      "100%|██████████| 2891/2891 [45:30<00:00,  1.14it/s]\n",
      "100%|██████████| 2891/2891 [45:30<00:00,  1.58it/s]\n",
      "100%|██████████| 2891/2891 [45:37<00:00,  1.69it/s]\n",
      "100%|██████████| 2891/2891 [45:39<00:00,  2.00it/s]\n",
      "100%|██████████| 2891/2891 [45:40<00:00,  2.45it/s]\n",
      "100%|██████████| 2891/2891 [45:40<00:00,  1.77it/s]\n",
      "100%|██████████| 2891/2891 [45:41<00:00,  2.81it/s]\n",
      "100%|██████████| 2891/2891 [45:42<00:00,  2.98it/s]\n",
      "100%|██████████| 2891/2891 [45:46<00:00,  2.05it/s]\n",
      "100%|██████████| 2891/2891 [45:48<00:00,  4.33it/s]\n",
      "100%|██████████| 2891/2891 [45:49<00:00,  4.06it/s]\n",
      "100%|█████████▉| 2881/2891 [45:49<00:03,  3.23it/s]\n",
      "100%|██████████| 2891/2891 [45:50<00:00,  5.98it/s]\n",
      "100%|██████████| 2891/2891 [45:50<00:00,  6.63it/s]\n",
      "100%|██████████| 2891/2891 [45:53<00:00, 11.59it/s]\n",
      "100%|██████████| 2891/2891 [45:56<00:00,  1.05it/s]\n"
     ]
    }
   ],
   "source": [
    "from tqdm import tqdm\n",
    "import time\n",
    "\n",
    "def featurizing_train_data(subset,user_user_similairity_dict,movie_movie_similarity_dict,i):\n",
    "    try :\n",
    "        \n",
    "        j = i + 1\n",
    "\n",
    "        if os.path.isfile('test_csv_files/reg_test'+str(j)+'.csv'):\n",
    "            print(\"File already exists you don't have to prepare again...\" )\n",
    "        else:\n",
    "            with open('test_csv_files/reg_test'+str(j)+'.csv', mode='w') as reg_data_file:\n",
    "                start = time.time()\n",
    "                \n",
    "                for user_movie_rating in tqdm(subset):\n",
    "                    user = user_movie_rating[0]\n",
    "                    movie = user_movie_rating[1]\n",
    "                    rating = user_movie_rating[2]\n",
    "                    try:\n",
    "                                    \n",
    "                        try :\n",
    "                            top_sim_users = user_user_similairity_dict[user]\n",
    "                            top_sim_users = np.array(top_sim_users)\n",
    "                    \n",
    "                        except KeyError:\n",
    "            \n",
    "                            # the similarity of Users of the \"user\"        \n",
    "                            user_sim = cosine_similarity(train_sparse_matrix[user], train_sparse_matrix).ravel()\n",
    "                    \n",
    "                            top_sim_users = user_sim.argsort()[::-1][1:10000]\n",
    "                            user_user_similairity_dict.update({user: list(top_sim_users)})\n",
    "                        top_ratings = train_sparse_matrix[top_sim_users, movie].toarray().ravel()\n",
    "                        top_sim_users_ratings = list(top_ratings[top_ratings != 0][:5])\n",
    "                        top_sim_users_ratings.extend([train_averages['movie'][movie]]*(5 - len(top_sim_users_ratings)))\n",
    "\n",
    "                        \n",
    "                    except (IndexError, KeyError):\n",
    "                        \n",
    "                        top_sim_users_ratings.extend([train_averages['global']]*(5 - len(top_sim_users_ratings)))\n",
    "                        \n",
    "\n",
    "                        \n",
    "                    try:\n",
    "         \n",
    "                        try :\n",
    "                            top_sim_movies = movie_movie_similarity_dict[movie]\n",
    "                            top_sim_movies = np.array(top_sim_movies)\n",
    "                        \n",
    "                                     \n",
    "                        except KeyError:\n",
    "                    \n",
    "                            movie_sim = cosine_similarity(train_sparse_matrix[:,movie].T, train_sparse_matrix.T).ravel()\n",
    "                            top_sim_movies = movie_sim.argsort()[::-1][1:1000] \n",
    "                            movie_movie_similarity_dict.update({movie:list(top_sim_movies)})\n",
    "                               \n",
    "                        top_ratings = train_sparse_matrix[user, top_sim_movies].toarray().ravel()\n",
    "                        top_sim_movies_ratings = list(top_ratings[top_ratings != 0][:5])\n",
    "                        top_sim_movies_ratings.extend([train_averages['user'][user]] * (5-len(top_sim_movies_ratings)))\n",
    "                        \n",
    "                    except (IndexError, KeyError):\n",
    "\n",
    "                        top_sim_movies_ratings.extend([train_averages['global']]*(5 - len(top_sim_movies_ratings)))\n",
    "\n",
    "\n",
    "\n",
    "                        \n",
    "                    #----------------- stores in a file-----------------#\n",
    "                    row = list()\n",
    "                    row.append(user)\n",
    "                    row.append(movie)\n",
    "                    row.append(train_averages['global']) # writing features\n",
    "                    row.extend(top_sim_users_ratings)\n",
    "                    row.extend(top_sim_movies_ratings)\n",
    "                    try:\n",
    "                        row.append(train_averages['user'][user])\n",
    "                    except KeyError:\n",
    "                        row.append(train_averages['global'])\n",
    "                    try:\n",
    "                        row.append(train_averages['movie'][movie])\n",
    "                    except KeyError:\n",
    "                        row.append(train_averages['global'])\n",
    "                        \n",
    "                    # finally, The actual Rating of this user-movie pair.\n",
    "                    row.append(rating)\n",
    "\n",
    "                    reg_data_file.write(','.join(map(str, row)))\n",
    "                    reg_data_file.write('\\n') \n",
    "                \n",
    "                \n",
    "    except MemoryError:\n",
    "        print(\"Memory is full !!!\")  \n",
    "\n",
    "        \n",
    "\n",
    "def main():\n",
    "    \n",
    "    \n",
    "    manager = multiprocessing.Manager()\n",
    "    user_user_similairity_dict = manager.dict({})\n",
    "    movie_movie_similarity_dict = manager.dict({})\n",
    "    \n",
    "    \n",
    "    \n",
    "    p1  =Process(target=featurizing_train_data,args=(subset_1,user_user_similairity_dict,movie_movie_similarity_dict,0))\n",
    "    p2  =Process(target=featurizing_train_data,args=(subset_2,user_user_similairity_dict,movie_movie_similarity_dict,1))\n",
    "    p3  =Process(target=featurizing_train_data,args=(subset_3,user_user_similairity_dict,movie_movie_similarity_dict,2))\n",
    "    p4  =Process(target=featurizing_train_data,args=(subset_4,user_user_similairity_dict,movie_movie_similarity_dict,3))\n",
    "    p5  =Process(target=featurizing_train_data,args=(subset_5,user_user_similairity_dict,movie_movie_similarity_dict,4))\n",
    "    p6  =Process(target=featurizing_train_data,args=(subset_6,user_user_similairity_dict,movie_movie_similarity_dict,5))\n",
    "    p7  =Process(target=featurizing_train_data,args=(subset_7,user_user_similairity_dict,movie_movie_similarity_dict,6))\n",
    "    p8  =Process(target=featurizing_train_data,args=(subset_8,user_user_similairity_dict,movie_movie_similarity_dict,7))\n",
    "    p9  =Process(target=featurizing_train_data,args=(subset_9,user_user_similairity_dict,movie_movie_similarity_dict,8))\n",
    "    p10  =Process(target=featurizing_train_data,args=(subset_10,user_user_similairity_dict,movie_movie_similarity_dict,9))\n",
    "    p11  =Process(target=featurizing_train_data,args=(subset_11,user_user_similairity_dict,movie_movie_similarity_dict,10))\n",
    "    p12  =Process(target=featurizing_train_data,args=(subset_12,user_user_similairity_dict,movie_movie_similarity_dict,11))\n",
    "    p13  =Process(target=featurizing_train_data,args=(subset_13,user_user_similairity_dict,movie_movie_similarity_dict,12))\n",
    "    p14  =Process(target=featurizing_train_data,args=(subset_14,user_user_similairity_dict,movie_movie_similarity_dict,13))\n",
    "    p15  =Process(target=featurizing_train_data,args=(subset_15,user_user_similairity_dict,movie_movie_similarity_dict,14))\n",
    "    p16  =Process(target=featurizing_train_data,args=(subset_16,user_user_similairity_dict,movie_movie_similarity_dict,15))\n",
    "    p17  =Process(target=featurizing_train_data,args=(subset_17,user_user_similairity_dict,movie_movie_similarity_dict,16))\n",
    "    p18  =Process(target=featurizing_train_data,args=(subset_18,user_user_similairity_dict,movie_movie_similarity_dict,17))\n",
    "    p19  =Process(target=featurizing_train_data,args=(subset_19,user_user_similairity_dict,movie_movie_similarity_dict,18))\n",
    "    p20  =Process(target=featurizing_train_data,args=(subset_20,user_user_similairity_dict,movie_movie_similarity_dict,19))\n",
    "    p21  =Process(target=featurizing_train_data,args=(subset_21,user_user_similairity_dict,movie_movie_similarity_dict,20))\n",
    "    p22  =Process(target=featurizing_train_data,args=(subset_22,user_user_similairity_dict,movie_movie_similarity_dict,21))\n",
    "    p23  =Process(target=featurizing_train_data,args=(subset_23,user_user_similairity_dict,movie_movie_similarity_dict,22))\n",
    "    p24  =Process(target=featurizing_train_data,args=(subset_24,user_user_similairity_dict,movie_movie_similarity_dict,23))\n",
    "    \n",
    "    p1.start()\n",
    "    p2.start()\n",
    "    p3.start()\n",
    "    p4.start()\n",
    "    p5.start()\n",
    "    p6.start()\n",
    "    p7.start()\n",
    "    p8.start()\n",
    "    p9.start()\n",
    "    p10.start()\n",
    "    p11.start()\n",
    "    p12.start()\n",
    "    p13.start()\n",
    "    p14.start()\n",
    "    p15.start()\n",
    "    p16.start()\n",
    "    p17.start()\n",
    "    p18.start()\n",
    "    p19.start()\n",
    "    p20.start()\n",
    "    p21.start()\n",
    "    p22.start()\n",
    "    p23.start()\n",
    "    p24.start()\n",
    "    \n",
    "    \n",
    "    p1.join()\n",
    "    p2.join()\n",
    "    p3.join()\n",
    "    p4.join()\n",
    "    p5.join()\n",
    "    p6.join()\n",
    "    p7.join()\n",
    "    p8.join()\n",
    "    p9.join()\n",
    "    p10.join()\n",
    "    p11.join()\n",
    "    p12.join()\n",
    "    p13.join()\n",
    "    p14.join()\n",
    "    p15.join()\n",
    "    p16.join()\n",
    "    p17.join()\n",
    "    p18.join()\n",
    "    p19.join()\n",
    "    p20.join()\n",
    "    p21.join()\n",
    "    p22.join()\n",
    "    p23.join()\n",
    "    p24.join()\n",
    "    \n",
    "    return user_user_similairity_dict,movie_movie_similarity_dict\n",
    "\n",
    "\n",
    "if __name__ == \"__main__\" :\n",
    "    user_user_similairity_dict,movie_movie_similarity_dict = main()\n",
    "    \n"
   ]
  },
  {
   "cell_type": "markdown",
   "metadata": {},
   "source": [
    "### stacking the train and test csv files"
   ]
  },
  {
   "cell_type": "code",
   "execution_count": 8,
   "metadata": {},
   "outputs": [],
   "source": [
    "df =[]\n",
    "df = pd.DataFrame(df,columns =['user', 'movie', 'GAvg', 'sur1', 'sur2', 'sur3', 'sur4', 'sur5','smr1', 'smr2', 'smr3', 'smr4', 'smr5','UAvg', 'MAvg', 'rating'])"
   ]
  },
  {
   "cell_type": "code",
   "execution_count": 9,
   "metadata": {},
   "outputs": [
    {
     "name": "stderr",
     "output_type": "stream",
     "text": [
      "100%|██████████| 25/25 [00:07<00:00,  3.27it/s]\n",
      "100%|██████████| 24/24 [00:06<00:00,  2.87it/s]\n"
     ]
    },
    {
     "data": {
      "text/html": [
       "<div>\n",
       "<style scoped>\n",
       "    .dataframe tbody tr th:only-of-type {\n",
       "        vertical-align: middle;\n",
       "    }\n",
       "\n",
       "    .dataframe tbody tr th {\n",
       "        vertical-align: top;\n",
       "    }\n",
       "\n",
       "    .dataframe thead th {\n",
       "        text-align: right;\n",
       "    }\n",
       "</style>\n",
       "<table border=\"1\" class=\"dataframe\">\n",
       "  <thead>\n",
       "    <tr style=\"text-align: right;\">\n",
       "      <th></th>\n",
       "      <th>user</th>\n",
       "      <th>movie</th>\n",
       "      <th>GAvg</th>\n",
       "      <th>sur1</th>\n",
       "      <th>sur2</th>\n",
       "      <th>sur3</th>\n",
       "      <th>sur4</th>\n",
       "      <th>sur5</th>\n",
       "      <th>smr1</th>\n",
       "      <th>smr2</th>\n",
       "      <th>smr3</th>\n",
       "      <th>smr4</th>\n",
       "      <th>smr5</th>\n",
       "      <th>UAvg</th>\n",
       "      <th>MAvg</th>\n",
       "      <th>rating</th>\n",
       "    </tr>\n",
       "  </thead>\n",
       "  <tbody>\n",
       "    <tr>\n",
       "      <th>0</th>\n",
       "      <td>1269389</td>\n",
       "      <td>9628</td>\n",
       "      <td>3.587581</td>\n",
       "      <td>4.0</td>\n",
       "      <td>5.0</td>\n",
       "      <td>4.0</td>\n",
       "      <td>5.0</td>\n",
       "      <td>4.0</td>\n",
       "      <td>4.0</td>\n",
       "      <td>5.0</td>\n",
       "      <td>5.0</td>\n",
       "      <td>4.0</td>\n",
       "      <td>3.0</td>\n",
       "      <td>3.529412</td>\n",
       "      <td>4.480237</td>\n",
       "      <td>5</td>\n",
       "    </tr>\n",
       "    <tr>\n",
       "      <th>1</th>\n",
       "      <td>1270541</td>\n",
       "      <td>9628</td>\n",
       "      <td>3.587581</td>\n",
       "      <td>5.0</td>\n",
       "      <td>3.0</td>\n",
       "      <td>4.0</td>\n",
       "      <td>4.0</td>\n",
       "      <td>4.0</td>\n",
       "      <td>5.0</td>\n",
       "      <td>5.0</td>\n",
       "      <td>5.0</td>\n",
       "      <td>4.0</td>\n",
       "      <td>4.0</td>\n",
       "      <td>4.090909</td>\n",
       "      <td>4.480237</td>\n",
       "      <td>5</td>\n",
       "    </tr>\n",
       "  </tbody>\n",
       "</table>\n",
       "</div>"
      ],
      "text/plain": [
       "      user movie      GAvg  sur1  sur2  sur3  sur4  sur5  smr1  smr2  smr3  \\\n",
       "0  1269389  9628  3.587581   4.0   5.0   4.0   5.0   4.0   4.0   5.0   5.0   \n",
       "1  1270541  9628  3.587581   5.0   3.0   4.0   4.0   4.0   5.0   5.0   5.0   \n",
       "\n",
       "   smr4  smr5      UAvg      MAvg rating  \n",
       "0   4.0   3.0  3.529412  4.480237      5  \n",
       "1   4.0   4.0  4.090909  4.480237      5  "
      ]
     },
     "execution_count": 9,
     "metadata": {},
     "output_type": "execute_result"
    }
   ],
   "source": [
    "files = os.listdir('train_csv_files/')\n",
    "\n",
    "for file in tqdm(files):\n",
    "    if file.endswith('.csv'):\n",
    "        df1 = pd.read_csv('train_csv_files/'+file,names = ['user', 'movie', 'GAvg', 'sur1', 'sur2', 'sur3', 'sur4', 'sur5','smr1', 'smr2', 'smr3', 'smr4', 'smr5','UAvg', 'MAvg', 'rating'])\n",
    "        df = pd.concat([df,df1],axis=0)\n",
    "        \n",
    "files = os.listdir('train_csv_files_2/')\n",
    "\n",
    "for file in tqdm(files):\n",
    "    if file.endswith('.csv'):\n",
    "        df1 = pd.read_csv('train_csv_files_2/'+file,names = ['user', 'movie', 'GAvg', 'sur1', 'sur2', 'sur3', 'sur4', 'sur5','smr1', 'smr2', 'smr3', 'smr4', 'smr5','UAvg', 'MAvg', 'rating'])\n",
    "        df = pd.concat([df,df1],axis=0)\n",
    "\n",
    "train = df\n",
    "train.head(2)"
   ]
  },
  {
   "cell_type": "code",
   "execution_count": 46,
   "metadata": {},
   "outputs": [],
   "source": [
    "df =[]\n",
    "df = pd.DataFrame(df,columns =['user', 'movie', 'GAvg', 'sur1', 'sur2', 'sur3', 'sur4', 'sur5','smr1', 'smr2', 'smr3', 'smr4', 'smr5','UAvg', 'MAvg', 'rating'])"
   ]
  },
  {
   "cell_type": "code",
   "execution_count": 47,
   "metadata": {},
   "outputs": [
    {
     "name": "stderr",
     "output_type": "stream",
     "text": [
      "100%|██████████| 25/25 [00:00<00:00, 67.03it/s]\n"
     ]
    },
    {
     "data": {
      "text/html": [
       "<div>\n",
       "<style scoped>\n",
       "    .dataframe tbody tr th:only-of-type {\n",
       "        vertical-align: middle;\n",
       "    }\n",
       "\n",
       "    .dataframe tbody tr th {\n",
       "        vertical-align: top;\n",
       "    }\n",
       "\n",
       "    .dataframe thead th {\n",
       "        text-align: right;\n",
       "    }\n",
       "</style>\n",
       "<table border=\"1\" class=\"dataframe\">\n",
       "  <thead>\n",
       "    <tr style=\"text-align: right;\">\n",
       "      <th></th>\n",
       "      <th>user</th>\n",
       "      <th>movie</th>\n",
       "      <th>GAvg</th>\n",
       "      <th>sur1</th>\n",
       "      <th>sur2</th>\n",
       "      <th>sur3</th>\n",
       "      <th>sur4</th>\n",
       "      <th>sur5</th>\n",
       "      <th>smr1</th>\n",
       "      <th>smr2</th>\n",
       "      <th>smr3</th>\n",
       "      <th>smr4</th>\n",
       "      <th>smr5</th>\n",
       "      <th>UAvg</th>\n",
       "      <th>MAvg</th>\n",
       "      <th>rating</th>\n",
       "    </tr>\n",
       "  </thead>\n",
       "  <tbody>\n",
       "    <tr>\n",
       "      <th>0</th>\n",
       "      <td>2301057</td>\n",
       "      <td>5226</td>\n",
       "      <td>3.587581</td>\n",
       "      <td>3.587581</td>\n",
       "      <td>3.587581</td>\n",
       "      <td>3.587581</td>\n",
       "      <td>3.587581</td>\n",
       "      <td>3.587581</td>\n",
       "      <td>3.587581</td>\n",
       "      <td>3.587581</td>\n",
       "      <td>3.587581</td>\n",
       "      <td>3.587581</td>\n",
       "      <td>3.587581</td>\n",
       "      <td>3.587581</td>\n",
       "      <td>3.587581</td>\n",
       "      <td>5</td>\n",
       "    </tr>\n",
       "    <tr>\n",
       "      <th>1</th>\n",
       "      <td>2307585</td>\n",
       "      <td>5226</td>\n",
       "      <td>3.587581</td>\n",
       "      <td>3.587581</td>\n",
       "      <td>3.587581</td>\n",
       "      <td>3.587581</td>\n",
       "      <td>3.587581</td>\n",
       "      <td>3.587581</td>\n",
       "      <td>3.587581</td>\n",
       "      <td>3.587581</td>\n",
       "      <td>3.587581</td>\n",
       "      <td>3.587581</td>\n",
       "      <td>3.587581</td>\n",
       "      <td>3.587581</td>\n",
       "      <td>3.587581</td>\n",
       "      <td>4</td>\n",
       "    </tr>\n",
       "  </tbody>\n",
       "</table>\n",
       "</div>"
      ],
      "text/plain": [
       "      user movie      GAvg      sur1      sur2      sur3      sur4      sur5  \\\n",
       "0  2301057  5226  3.587581  3.587581  3.587581  3.587581  3.587581  3.587581   \n",
       "1  2307585  5226  3.587581  3.587581  3.587581  3.587581  3.587581  3.587581   \n",
       "\n",
       "       smr1      smr2      smr3      smr4      smr5      UAvg      MAvg rating  \n",
       "0  3.587581  3.587581  3.587581  3.587581  3.587581  3.587581  3.587581      5  \n",
       "1  3.587581  3.587581  3.587581  3.587581  3.587581  3.587581  3.587581      4  "
      ]
     },
     "execution_count": 47,
     "metadata": {},
     "output_type": "execute_result"
    }
   ],
   "source": [
    "files = os.listdir('test_csv_files/')\n",
    "\n",
    "for file in tqdm(files):\n",
    "    #print(file)\n",
    "    if file.endswith('.csv'):\n",
    "        df1 = pd.read_csv('test_csv_files/'+file,names = ['user', 'movie', 'GAvg', 'sur1', 'sur2', 'sur3', 'sur4', 'sur5','smr1', 'smr2', 'smr3', 'smr4', 'smr5','UAvg', 'MAvg', 'rating'])\n",
    "        df = pd.concat([df,df1],axis=0)\n",
    "        \n",
    "test = df\n",
    "test.head(2)"
   ]
  },
  {
   "cell_type": "code",
   "execution_count": 48,
   "metadata": {},
   "outputs": [],
   "source": [
    "train = train.drop_duplicates(subset=['user','movie'])\n",
    "test = test.drop_duplicates(subset=['user','movie'])"
   ]
  },
  {
   "cell_type": "code",
   "execution_count": 49,
   "metadata": {},
   "outputs": [],
   "source": [
    "train.to_csv(\"final_train.cav\",index=False)\n",
    "test.to_csv(\"final_test.csv\",index=False)"
   ]
  },
  {
   "cell_type": "code",
   "execution_count": 50,
   "metadata": {},
   "outputs": [],
   "source": [
    "train = pd.read_csv(\"final_train.cav\")\n",
    "test = pd.read_csv(\"final_test.csv\")"
   ]
  },
  {
   "cell_type": "markdown",
   "metadata": {},
   "source": [
    "<h3> Transforming data for Surprise models</h3>"
   ]
  },
  {
   "cell_type": "code",
   "execution_count": 51,
   "metadata": {},
   "outputs": [],
   "source": [
    "from surprise import Reader, Dataset\n",
    "\n",
    "reader = Reader(rating_scale=(1,5))\n",
    "\n",
    "train_data = Dataset.load_from_df(train[['user', 'movie', 'rating']], reader)\n",
    "\n",
    "trainset = train_data.build_full_trainset() "
   ]
  },
  {
   "cell_type": "code",
   "execution_count": 52,
   "metadata": {},
   "outputs": [
    {
     "data": {
      "text/plain": [
       "[(2301057, 5226, 5), (2307585, 5226, 4), (2322895, 5226, 4)]"
      ]
     },
     "execution_count": 52,
     "metadata": {},
     "output_type": "execute_result"
    }
   ],
   "source": [
    "testset = list(zip(test.user.values, test.movie.values, test.rating.values))\n",
    "testset[:3]"
   ]
  },
  {
   "cell_type": "markdown",
   "metadata": {},
   "source": [
    "<h2> Applying Machine Learning models </h2>"
   ]
  },
  {
   "cell_type": "markdown",
   "metadata": {},
   "source": [
    " > __Utility functions"
   ]
  },
  {
   "cell_type": "code",
   "execution_count": 53,
   "metadata": {},
   "outputs": [],
   "source": [
    "models_evaluation_train = dict()\n",
    "models_evaluation_test = dict()"
   ]
  },
  {
   "cell_type": "code",
   "execution_count": 54,
   "metadata": {},
   "outputs": [],
   "source": [
    "my_seed = 15\n",
    "random.seed(my_seed)\n",
    "np.random.seed(my_seed)\n",
    "\n",
    "# get  (actual_list , predicted_list) ratings given list \n",
    "# of predictions (prediction is a class in Surprise).    \n",
    "def get_ratings(predictions):\n",
    "    actual = np.array([pred.r_ui for pred in predictions])\n",
    "    pred = np.array([pred.est for pred in predictions])\n",
    "    \n",
    "    return actual, pred\n",
    "\n",
    "def get_errors(predictions, print_them=False):\n",
    "\n",
    "    actual, pred = get_ratings(predictions)\n",
    "    rmse = np.sqrt(np.mean((pred - actual)**2))\n",
    "    mape = np.mean(np.abs(pred - actual)/actual)\n",
    "\n",
    "    return rmse, mape*100\n",
    "\n",
    "#It will return predicted ratings, rmse and mape of both train and test data\n",
    "\n",
    "def run_surprise(algo, trainset, testset, verbose=True): \n",
    "   \n",
    "    # dictionaries that stores metrics for train and test..\n",
    "    train = dict()\n",
    "    test = dict()\n",
    "    \n",
    "    algo.fit(trainset)\n",
    "    \n",
    "    train_preds = algo.test(trainset.build_testset())\n",
    "    train_actual_ratings, train_pred_ratings = get_ratings(train_preds)\n",
    "    train_rmse, train_mape = get_errors(train_preds)\n",
    "    \n",
    "    if verbose:\n",
    "        print('-'*15)\n",
    "        print('Train Data')\n",
    "        print('-'*15)\n",
    "        print(\"RMSE : {}\\n\\nMAPE : {}\\n\".format(train_rmse, train_mape))\n",
    "    train['rmse'] = train_rmse\n",
    "    train['mape'] = train_mape\n",
    "    train['predictions'] = train_pred_ratings\n",
    "    \n",
    "    test_preds = algo.test(testset)\n",
    "    test_actual_ratings, test_pred_ratings = get_ratings(test_preds)\n",
    "    test_rmse, test_mape = get_errors(test_preds)\n",
    "    \n",
    "    if verbose:\n",
    "        print('-'*15)\n",
    "        print('Test Data')\n",
    "        print('-'*15)\n",
    "        print(\"RMSE : {}\\n\\nMAPE : {}\\n\".format(test_rmse, test_mape))\n",
    "        \n",
    "    test['rmse'] = test_rmse\n",
    "    test['mape'] = test_mape\n",
    "    test['predictions'] = test_pred_ratings\n",
    "        \n",
    "    return train, test"
   ]
  },
  {
   "cell_type": "code",
   "execution_count": 55,
   "metadata": {},
   "outputs": [],
   "source": [
    "def get_error_metrics(y_true, y_pred):\n",
    "    rmse = np.sqrt(np.mean([ (y_true[i] - y_pred[i])**2 for i in range(len(y_pred)) ]))\n",
    "    mape = np.mean(np.abs( (y_true - y_pred)/y_true )) * 100\n",
    "    return rmse, mape"
   ]
  },
  {
   "cell_type": "markdown",
   "metadata": {},
   "source": [
    "<h3>  XGBoost with initial 13 features </h3>"
   ]
  },
  {
   "cell_type": "code",
   "execution_count": 56,
   "metadata": {},
   "outputs": [
    {
     "name": "stdout",
     "output_type": "stream",
     "text": [
      "XGBRegressor(base_score=0.5, booster='gbtree', colsample_bylevel=1,\n",
      "       colsample_bytree=1, gamma=0, learning_rate=0.1, max_delta_step=0,\n",
      "       max_depth=4, min_child_weight=1, missing=None, n_estimators=200,\n",
      "       n_jobs=-1, nthread=None, objective='reg:linear', random_state=0,\n",
      "       reg_alpha=0, reg_lambda=1, scale_pos_weight=1, seed=None,\n",
      "       silent=True, subsample=1)\n",
      "---------------------------------------------------------------------------\n",
      "CV test mean_squared_errors\n"
     ]
    },
    {
     "data": {
      "image/png": "[encoded data removed]",
      "text/plain": [
       "<Figure size 432x288 with 2 Axes>"
      ]
     },
     "metadata": {},
     "output_type": "display_data"
    },
    {
     "name": "stdout",
     "output_type": "stream",
     "text": [
      "---------------------------------------------------------------------------\n",
      "CV train mean_squared_errors\n"
     ]
    },
    {
     "data": {
      "image/png": "[encoded data removed]",
      "text/plain": [
       "<Figure size 432x288 with 2 Axes>"
      ]
     },
     "metadata": {},
     "output_type": "display_data"
    },
    {
     "name": "stdout",
     "output_type": "stream",
     "text": [
      "Train RMSE : 0.858\n",
      "Train mape : 25.603\n",
      "\n",
      "\n",
      "Test RMSE : 1.111\n",
      "Test mape : 34.141\n"
     ]
    },
    {
     "data": {
      "image/png": "[encoded data removed]",
      "text/plain": [
       "<Figure size 432x288 with 1 Axes>"
      ]
     },
     "metadata": {},
     "output_type": "display_data"
    }
   ],
   "source": [
    "from sklearn.model_selection import GridSearchCV\n",
    "import xgboost as xgb\n",
    "\n",
    "x_train = train.drop(['user','movie','rating'], axis=1)\n",
    "y_train = train['rating']\n",
    "\n",
    "x_test = test.drop(['user','movie','rating'], axis=1)\n",
    "y_test = test['rating']\n",
    "\n",
    "tuned_parameters={\n",
    "    'max_depth' : [2,3,4],\n",
    "    'n_estimators': [25,50,100,200],\n",
    "    'learning_rate':[0.1],\n",
    "    'booster':['gbtree'],\n",
    "    'n_jobs':[-1],\n",
    "}\n",
    "\n",
    "xgb_model = xgb.XGBRegressor()\n",
    "model = GridSearchCV(xgb_model, tuned_parameters, scoring = 'neg_mean_squared_error', cv=5,n_jobs=1,return_train_score =True)\n",
    "model.fit(x_train,y_train)\n",
    "print(model.best_estimator_)\n",
    "\n",
    "print(\"-\"*75)\n",
    "print(\"CV test mean_squared_errors\")\n",
    "\n",
    "cv_scores = pd.DataFrame(model.cv_results_)\n",
    "\n",
    "matri = np.asarray(-cv_scores['mean_test_score'])\n",
    "matri = np.reshape(matri,newshape=(3,4))\n",
    "matri = pd.DataFrame(matri,index=[2,3,4],columns=[25,50,100,200])\n",
    "\n",
    "sns.heatmap(matri,annot=True,cmap=\"YlGnBu\")\n",
    "plt.xlabel('depth')\n",
    "plt.ylabel('number of estimators')\n",
    "plt.show()\n",
    "\n",
    "\n",
    "print(\"-\"*75)\n",
    "\n",
    "print(\"CV train mean_squared_errors\")\n",
    "\n",
    "matri = np.asarray(-cv_scores['mean_train_score'])\n",
    "matri = np.reshape(matri,newshape=(3,4))\n",
    "matri = pd.DataFrame(matri,index=[2,3,4],columns=[25,50,100,200])\n",
    "\n",
    "sns.heatmap(matri,annot=True,cmap=\"YlGn\")\n",
    "plt.xlabel('depth')\n",
    "plt.ylabel('number of estimators')\n",
    "plt.show()\n",
    "\n",
    "y_pred = model.best_estimator_.predict(x_train)\n",
    "\n",
    "train_rmse, train_mape = get_error_metrics(y_train,y_pred)\n",
    "\n",
    "print(\"Train RMSE :\",np.round(train_rmse,decimals=3))\n",
    "print(\"Train mape :\",np.round(train_mape,decimals=3))\n",
    "print(\"\\n\")\n",
    "\n",
    "y_pred = model.best_estimator_.predict(x_test)\n",
    "\n",
    "test_rmse, test_mape = get_error_metrics(y_test,y_pred)\n",
    "\n",
    "print(\"Test RMSE :\",np.round(test_rmse,decimals=3))\n",
    "print(\"Test mape :\",np.round(test_mape,decimals=3))\n",
    "\n",
    "models_evaluation_train['rmse'] = train_rmse\n",
    "models_evaluation_train['mape'] = train_mape\n",
    "models_evaluation_test['rmse'] = test_rmse\n",
    "models_evaluation_test['mape'] = test_mape\n",
    "\n",
    "xgb.plot_importance(model.best_estimator_)\n",
    "\n",
    "plt.show()"
   ]
  },
  {
   "cell_type": "code",
   "execution_count": 57,
   "metadata": {},
   "outputs": [],
   "source": [
    "import pickle as pkl\n",
    "\n",
    "with open(\"model_1.pkl\",'wb') as f:\n",
    "    pkl.dump([y_pred],f)"
   ]
  },
  {
   "cell_type": "markdown",
   "metadata": {},
   "source": [
    "<h3> Suprise BaselineModel </h3>"
   ]
  },
  {
   "cell_type": "code",
   "execution_count": 58,
   "metadata": {},
   "outputs": [
    {
     "name": "stdout",
     "output_type": "stream",
     "text": [
      "Estimating biases using sgd...\n",
      "---------------\n",
      "Train Data\n",
      "---------------\n",
      "RMSE : 0.9222357942097669\n",
      "\n",
      "MAPE : 28.587344935763692\n",
      "\n",
      "---------------\n",
      "Test Data\n",
      "---------------\n",
      "RMSE : 1.0867874836763205\n",
      "\n",
      "MAPE : 35.008478789701776\n",
      "\n"
     ]
    }
   ],
   "source": [
    "from surprise import BaselineOnly \n",
    "\n",
    "bsl_options = {'method': 'sgd',\n",
    "               'learning_rate': .001\n",
    "               }\n",
    "my_bsl_algo = BaselineOnly(bsl_options=bsl_options)\n",
    "bsl_train_results, bsl_test_results = run_surprise(my_bsl_algo, trainset, testset, verbose=True)\n",
    "\n",
    "\n",
    "models_evaluation_train['bsl_algo'] = bsl_train_results \n",
    "models_evaluation_test['bsl_algo'] = bsl_test_results"
   ]
  },
  {
   "cell_type": "markdown",
   "metadata": {},
   "source": [
    "<h3>  XGBoost with initial 13 features + Surprise Baseline predictor </h3>"
   ]
  },
  {
   "cell_type": "code",
   "execution_count": 59,
   "metadata": {},
   "outputs": [
    {
     "data": {
      "text/html": [
       "<div>\n",
       "<style scoped>\n",
       "    .dataframe tbody tr th:only-of-type {\n",
       "        vertical-align: middle;\n",
       "    }\n",
       "\n",
       "    .dataframe tbody tr th {\n",
       "        vertical-align: top;\n",
       "    }\n",
       "\n",
       "    .dataframe thead th {\n",
       "        text-align: right;\n",
       "    }\n",
       "</style>\n",
       "<table border=\"1\" class=\"dataframe\">\n",
       "  <thead>\n",
       "    <tr style=\"text-align: right;\">\n",
       "      <th></th>\n",
       "      <th>user</th>\n",
       "      <th>movie</th>\n",
       "      <th>GAvg</th>\n",
       "      <th>sur1</th>\n",
       "      <th>sur2</th>\n",
       "      <th>sur3</th>\n",
       "      <th>sur4</th>\n",
       "      <th>sur5</th>\n",
       "      <th>smr1</th>\n",
       "      <th>smr2</th>\n",
       "      <th>smr3</th>\n",
       "      <th>smr4</th>\n",
       "      <th>smr5</th>\n",
       "      <th>UAvg</th>\n",
       "      <th>MAvg</th>\n",
       "      <th>rating</th>\n",
       "      <th>bslpr</th>\n",
       "    </tr>\n",
       "  </thead>\n",
       "  <tbody>\n",
       "    <tr>\n",
       "      <th>0</th>\n",
       "      <td>1269389</td>\n",
       "      <td>9628</td>\n",
       "      <td>3.587581</td>\n",
       "      <td>4.0</td>\n",
       "      <td>5.0</td>\n",
       "      <td>4.0</td>\n",
       "      <td>5.0</td>\n",
       "      <td>4.0</td>\n",
       "      <td>4.0</td>\n",
       "      <td>5.0</td>\n",
       "      <td>5.0</td>\n",
       "      <td>4.0</td>\n",
       "      <td>3.0</td>\n",
       "      <td>3.529412</td>\n",
       "      <td>4.480237</td>\n",
       "      <td>5</td>\n",
       "      <td>4.399871</td>\n",
       "    </tr>\n",
       "    <tr>\n",
       "      <th>1</th>\n",
       "      <td>1270541</td>\n",
       "      <td>9628</td>\n",
       "      <td>3.587581</td>\n",
       "      <td>5.0</td>\n",
       "      <td>3.0</td>\n",
       "      <td>4.0</td>\n",
       "      <td>4.0</td>\n",
       "      <td>4.0</td>\n",
       "      <td>5.0</td>\n",
       "      <td>5.0</td>\n",
       "      <td>5.0</td>\n",
       "      <td>4.0</td>\n",
       "      <td>4.0</td>\n",
       "      <td>4.090909</td>\n",
       "      <td>4.480237</td>\n",
       "      <td>5</td>\n",
       "      <td>3.326096</td>\n",
       "    </tr>\n",
       "  </tbody>\n",
       "</table>\n",
       "</div>"
      ],
      "text/plain": [
       "      user  movie      GAvg  sur1  sur2  sur3  sur4  sur5  smr1  smr2  smr3  \\\n",
       "0  1269389   9628  3.587581   4.0   5.0   4.0   5.0   4.0   4.0   5.0   5.0   \n",
       "1  1270541   9628  3.587581   5.0   3.0   4.0   4.0   4.0   5.0   5.0   5.0   \n",
       "\n",
       "   smr4  smr5      UAvg      MAvg  rating     bslpr  \n",
       "0   4.0   3.0  3.529412  4.480237       5  4.399871  \n",
       "1   4.0   4.0  4.090909  4.480237       5  3.326096  "
      ]
     },
     "execution_count": 59,
     "metadata": {},
     "output_type": "execute_result"
    }
   ],
   "source": [
    "# add our baseline_predicted value as our feature..\n",
    "train['bslpr'] = models_evaluation_train['bsl_algo']['predictions']\n",
    "test['bslpr']  = models_evaluation_test['bsl_algo']['predictions']\n",
    "train.head(2) "
   ]
  },
  {
   "cell_type": "code",
   "execution_count": 60,
   "metadata": {},
   "outputs": [
    {
     "name": "stdout",
     "output_type": "stream",
     "text": [
      "XGBRegressor(base_score=0.5, booster='gbtree', colsample_bylevel=1,\n",
      "       colsample_bytree=1, gamma=0, learning_rate=0.1, max_delta_step=0,\n",
      "       max_depth=4, min_child_weight=1, missing=None, n_estimators=200,\n",
      "       n_jobs=-1, nthread=None, objective='reg:linear', random_state=0,\n",
      "       reg_alpha=0, reg_lambda=1, scale_pos_weight=1, seed=None,\n",
      "       silent=True, subsample=1)\n",
      "---------------------------------------------------------------------------\n",
      "CV test mean_squared_errors\n"
     ]
    },
    {
     "data": {
      "image/png": "[encoded data removed]",
      "text/plain": [
       "<Figure size 432x288 with 2 Axes>"
      ]
     },
     "metadata": {},
     "output_type": "display_data"
    },
    {
     "name": "stdout",
     "output_type": "stream",
     "text": [
      "---------------------------------------------------------------------------\n",
      "CV train mean_squared_errors\n"
     ]
    },
    {
     "data": {
      "image/png": "[encoded data removed]",
      "text/plain": [
       "<Figure size 432x288 with 2 Axes>"
      ]
     },
     "metadata": {},
     "output_type": "display_data"
    },
    {
     "name": "stdout",
     "output_type": "stream",
     "text": [
      "Train RMSE : 0.858\n",
      "Train mape : 25.608\n",
      "\n",
      "\n",
      "Test RMSE : 1.115\n",
      "Test mape : 34.023\n"
     ]
    },
    {
     "data": {
      "image/png": "[encoded data removed]",
      "text/plain": [
       "<Figure size 432x288 with 1 Axes>"
      ]
     },
     "metadata": {},
     "output_type": "display_data"
    }
   ],
   "source": [
    "from sklearn.model_selection import GridSearchCV\n",
    "import xgboost as xgb\n",
    "\n",
    "x_train = train.drop(['user','movie','rating'], axis=1)\n",
    "y_train = train['rating']\n",
    "\n",
    "x_test = test.drop(['user','movie','rating'], axis=1)\n",
    "y_test = test['rating']\n",
    "\n",
    "tuned_parameters={\n",
    "    'max_depth' : [2,3,4],\n",
    "    'n_estimators': [25,50,100,200],\n",
    "    'learning_rate':[0.1],\n",
    "    'booster':['gbtree'],\n",
    "    'n_jobs':[-1],\n",
    "}\n",
    "\n",
    "xgb_model = xgb.XGBRegressor()\n",
    "model = GridSearchCV(xgb_model, tuned_parameters, scoring = 'neg_mean_squared_error', cv=5,n_jobs=1,return_train_score =True)\n",
    "model.fit(x_train,y_train)\n",
    "print(model.best_estimator_)\n",
    "\n",
    "print(\"-\"*75)\n",
    "print(\"CV test mean_squared_errors\")\n",
    "\n",
    "cv_scores = pd.DataFrame(model.cv_results_)\n",
    "\n",
    "matri = np.asarray(-cv_scores['mean_test_score'])\n",
    "matri = np.reshape(matri,newshape=(3,4))\n",
    "matri = pd.DataFrame(matri,index=[2,3,4],columns=[25,50,100,200])\n",
    "\n",
    "sns.heatmap(matri,annot=True,cmap=\"YlGnBu\")\n",
    "plt.xlabel('depth')\n",
    "plt.ylabel('number of estimators')\n",
    "plt.show()\n",
    "\n",
    "\n",
    "print(\"-\"*75)\n",
    "\n",
    "print(\"CV train mean_squared_errors\")\n",
    "\n",
    "matri = np.asarray(-cv_scores['mean_train_score'])\n",
    "matri = np.reshape(matri,newshape=(3,4))\n",
    "matri = pd.DataFrame(matri,index=[2,3,4],columns=[25,50,100,200])\n",
    "\n",
    "sns.heatmap(matri,annot=True,cmap=\"YlGn\")\n",
    "plt.xlabel('depth')\n",
    "plt.ylabel('number of estimators')\n",
    "plt.show()\n",
    "\n",
    "y_pred = model.best_estimator_.predict(x_train)\n",
    "\n",
    "train_rmse, train_mape = get_error_metrics(y_train,y_pred)\n",
    "\n",
    "print(\"Train RMSE :\",np.round(train_rmse,decimals=3))\n",
    "print(\"Train mape :\",np.round(train_mape,decimals=3))\n",
    "print(\"\\n\")\n",
    "\n",
    "y_pred = model.best_estimator_.predict(x_test)\n",
    "\n",
    "test_rmse, test_mape = get_error_metrics(y_test,y_pred)\n",
    "\n",
    "print(\"Test RMSE :\",np.round(test_rmse,decimals=3))\n",
    "print(\"Test mape :\",np.round(test_mape,decimals=3))\n",
    "\n",
    "\n",
    "xgb.plot_importance(model.best_estimator_)\n",
    "\n",
    "plt.show()"
   ]
  },
  {
   "cell_type": "markdown",
   "metadata": {},
   "source": [
    "<h3>  Surprise KNNBaseline predictors </h3>"
   ]
  },
  {
   "cell_type": "markdown",
   "metadata": {},
   "source": [
    " <h4> Surprise KNNBaseline with user user similarities</h4>"
   ]
  },
  {
   "cell_type": "code",
   "execution_count": 61,
   "metadata": {},
   "outputs": [
    {
     "name": "stdout",
     "output_type": "stream",
     "text": [
      "Estimating biases using sgd...\n",
      "Computing the pearson_baseline similarity matrix...\n",
      "Done computing similarity matrix.\n",
      "---------------\n",
      "Train Data\n",
      "---------------\n",
      "RMSE : 0.45539042929013207\n",
      "\n",
      "MAPE : 12.903089795831729\n",
      "\n",
      "---------------\n",
      "Test Data\n",
      "---------------\n",
      "RMSE : 1.0871488949926553\n",
      "\n",
      "MAPE : 35.01626035427996\n",
      "\n"
     ]
    }
   ],
   "source": [
    "from surprise import KNNBaseline\n",
    "\n",
    "sim_options = {'user_based' : True,\n",
    "               'name': 'pearson_baseline',\n",
    "               'shrinkage': 100,\n",
    "               'min_support': 2\n",
    "              } \n",
    "bsl_options = {'method': 'sgd'} \n",
    "\n",
    "\n",
    "knn_bsl_u = KNNBaseline(k=40, sim_options = sim_options, bsl_options = bsl_options)\n",
    "knn_bsl_u_train_results, knn_bsl_u_test_results = run_surprise(knn_bsl_u, trainset, testset)\n",
    "\n",
    "models_evaluation_train['knn_bsl_u'] = knn_bsl_u_train_results \n",
    "models_evaluation_test['knn_bsl_u'] = knn_bsl_u_test_results"
   ]
  },
  {
   "cell_type": "markdown",
   "metadata": {},
   "source": [
    "<h4> Surprise KNNBaseline with movie movie similarities</h4>"
   ]
  },
  {
   "cell_type": "code",
   "execution_count": 62,
   "metadata": {},
   "outputs": [
    {
     "name": "stdout",
     "output_type": "stream",
     "text": [
      "Estimating biases using sgd...\n",
      "Computing the pearson_baseline similarity matrix...\n",
      "Done computing similarity matrix.\n",
      "---------------\n",
      "Train Data\n",
      "---------------\n",
      "RMSE : 0.50797091418216\n",
      "\n",
      "MAPE : 14.282213909399125\n",
      "\n",
      "---------------\n",
      "Test Data\n",
      "---------------\n",
      "RMSE : 1.0874168180719535\n",
      "\n",
      "MAPE : 35.0190834427918\n",
      "\n"
     ]
    }
   ],
   "source": [
    "sim_options = {'user_based' : False,\n",
    "               'name': 'pearson_baseline',\n",
    "               'shrinkage': 100,\n",
    "               'min_support': 2\n",
    "              } \n",
    "bsl_options = {'method': 'sgd'}\n",
    "\n",
    "\n",
    "knn_bsl_m = KNNBaseline(k=40, sim_options = sim_options, bsl_options = bsl_options)\n",
    "\n",
    "knn_bsl_m_train_results, knn_bsl_m_test_results = run_surprise(knn_bsl_m, trainset, testset, verbose=True)\n",
    "\n",
    "models_evaluation_train['knn_bsl_m'] = knn_bsl_m_train_results \n",
    "models_evaluation_test['knn_bsl_m'] = knn_bsl_m_test_results"
   ]
  },
  {
   "cell_type": "markdown",
   "metadata": {},
   "source": [
    "<h3> XGBoost with initial 13 features + Surprise Baseline predictor + KNNBaseline predictors </h3>"
   ]
  },
  {
   "cell_type": "code",
   "execution_count": 63,
   "metadata": {},
   "outputs": [
    {
     "data": {
      "text/html": [
       "<div>\n",
       "<style scoped>\n",
       "    .dataframe tbody tr th:only-of-type {\n",
       "        vertical-align: middle;\n",
       "    }\n",
       "\n",
       "    .dataframe tbody tr th {\n",
       "        vertical-align: top;\n",
       "    }\n",
       "\n",
       "    .dataframe thead th {\n",
       "        text-align: right;\n",
       "    }\n",
       "</style>\n",
       "<table border=\"1\" class=\"dataframe\">\n",
       "  <thead>\n",
       "    <tr style=\"text-align: right;\">\n",
       "      <th></th>\n",
       "      <th>user</th>\n",
       "      <th>movie</th>\n",
       "      <th>GAvg</th>\n",
       "      <th>sur1</th>\n",
       "      <th>sur2</th>\n",
       "      <th>sur3</th>\n",
       "      <th>sur4</th>\n",
       "      <th>sur5</th>\n",
       "      <th>smr1</th>\n",
       "      <th>smr2</th>\n",
       "      <th>smr3</th>\n",
       "      <th>smr4</th>\n",
       "      <th>smr5</th>\n",
       "      <th>UAvg</th>\n",
       "      <th>MAvg</th>\n",
       "      <th>rating</th>\n",
       "      <th>bslpr</th>\n",
       "      <th>knn_bsl_u</th>\n",
       "      <th>knn_bsl_m</th>\n",
       "    </tr>\n",
       "  </thead>\n",
       "  <tbody>\n",
       "    <tr>\n",
       "      <th>0</th>\n",
       "      <td>1269389</td>\n",
       "      <td>9628</td>\n",
       "      <td>3.587581</td>\n",
       "      <td>4.0</td>\n",
       "      <td>5.0</td>\n",
       "      <td>4.0</td>\n",
       "      <td>5.0</td>\n",
       "      <td>4.0</td>\n",
       "      <td>4.0</td>\n",
       "      <td>5.0</td>\n",
       "      <td>5.0</td>\n",
       "      <td>4.0</td>\n",
       "      <td>3.0</td>\n",
       "      <td>3.529412</td>\n",
       "      <td>4.480237</td>\n",
       "      <td>5</td>\n",
       "      <td>4.399871</td>\n",
       "      <td>4.782176</td>\n",
       "      <td>4.900055</td>\n",
       "    </tr>\n",
       "    <tr>\n",
       "      <th>1</th>\n",
       "      <td>1270541</td>\n",
       "      <td>9628</td>\n",
       "      <td>3.587581</td>\n",
       "      <td>5.0</td>\n",
       "      <td>3.0</td>\n",
       "      <td>4.0</td>\n",
       "      <td>4.0</td>\n",
       "      <td>4.0</td>\n",
       "      <td>5.0</td>\n",
       "      <td>5.0</td>\n",
       "      <td>5.0</td>\n",
       "      <td>4.0</td>\n",
       "      <td>4.0</td>\n",
       "      <td>4.090909</td>\n",
       "      <td>4.480237</td>\n",
       "      <td>5</td>\n",
       "      <td>3.326096</td>\n",
       "      <td>2.984534</td>\n",
       "      <td>2.870883</td>\n",
       "    </tr>\n",
       "  </tbody>\n",
       "</table>\n",
       "</div>"
      ],
      "text/plain": [
       "      user  movie      GAvg  sur1  sur2  sur3  sur4  sur5  smr1  smr2  smr3  \\\n",
       "0  1269389   9628  3.587581   4.0   5.0   4.0   5.0   4.0   4.0   5.0   5.0   \n",
       "1  1270541   9628  3.587581   5.0   3.0   4.0   4.0   4.0   5.0   5.0   5.0   \n",
       "\n",
       "   smr4  smr5      UAvg      MAvg  rating     bslpr  knn_bsl_u  knn_bsl_m  \n",
       "0   4.0   3.0  3.529412  4.480237       5  4.399871   4.782176   4.900055  \n",
       "1   4.0   4.0  4.090909  4.480237       5  3.326096   2.984534   2.870883  "
      ]
     },
     "execution_count": 63,
     "metadata": {},
     "output_type": "execute_result"
    }
   ],
   "source": [
    "# add the predicted values from both knns to this dataframe\n",
    "train['knn_bsl_u'] = models_evaluation_train['knn_bsl_u']['predictions']\n",
    "train['knn_bsl_m'] = models_evaluation_train['knn_bsl_m']['predictions']\n",
    "\n",
    "test['knn_bsl_u'] = models_evaluation_test['knn_bsl_u']['predictions']\n",
    "test['knn_bsl_m'] = models_evaluation_test['knn_bsl_m']['predictions']\n",
    "\n",
    "\n",
    "train.head(2)"
   ]
  },
  {
   "cell_type": "code",
   "execution_count": 66,
   "metadata": {},
   "outputs": [
    {
     "name": "stdout",
     "output_type": "stream",
     "text": [
      "XGBRegressor(base_score=0.5, booster='gbtree', colsample_bylevel=1,\n",
      "       colsample_bytree=1, gamma=0, learning_rate=0.1, max_delta_step=0,\n",
      "       max_depth=4, min_child_weight=1, missing=None, n_estimators=200,\n",
      "       n_jobs=-1, nthread=None, objective='reg:linear', random_state=0,\n",
      "       reg_alpha=0, reg_lambda=1, scale_pos_weight=1, seed=None,\n",
      "       silent=True, subsample=1)\n",
      "---------------------------------------------------------------------------\n",
      "CV test mean_squared_errors\n"
     ]
    },
    {
     "data": {
      "image/png": "[encoded data removed]",
      "text/plain": [
       "<Figure size 432x288 with 2 Axes>"
      ]
     },
     "metadata": {},
     "output_type": "display_data"
    },
    {
     "name": "stdout",
     "output_type": "stream",
     "text": [
      "---------------------------------------------------------------------------\n",
      "CV train mean_squared_errors\n"
     ]
    },
    {
     "data": {
      "image/png": "[encoded data removed]",
      "text/plain": [
       "<Figure size 432x288 with 2 Axes>"
      ]
     },
     "metadata": {},
     "output_type": "display_data"
    },
    {
     "name": "stdout",
     "output_type": "stream",
     "text": [
      "Train RMSE : 0.858\n",
      "Train mape : 25.612\n",
      "\n",
      "\n",
      "Test RMSE : 1.113\n",
      "Test mape : 34.103\n"
     ]
    },
    {
     "data": {
      "image/png": "[encoded data removed]",
      "text/plain": [
       "<Figure size 432x288 with 1 Axes>"
      ]
     },
     "metadata": {},
     "output_type": "display_data"
    }
   ],
   "source": [
    "from sklearn.model_selection import GridSearchCV\n",
    "\n",
    "\n",
    "x_train = train.drop(['user','movie','rating'], axis=1)\n",
    "y_train = train['rating']\n",
    "\n",
    "x_test = test.drop(['user','movie','rating'], axis=1)\n",
    "y_test = test['rating']\n",
    "\n",
    "tuned_parameters={\n",
    "    'max_depth' : [2,3,4],\n",
    "    'n_estimators': [25,50,100,200],\n",
    "    'learning_rate':[0.1],\n",
    "    'booster':['gbtree'],\n",
    "    'n_jobs':[-1],\n",
    "}\n",
    "\n",
    "xgb_model = xgb.XGBRegressor()\n",
    "model = GridSearchCV(xgb_model, tuned_parameters, scoring = 'neg_mean_squared_error', cv=5,n_jobs=1,return_train_score =True)\n",
    "model.fit(x_train,y_train)\n",
    "print(model.best_estimator_)\n",
    "\n",
    "print(\"-\"*75)\n",
    "print(\"CV test mean_squared_errors\")\n",
    "\n",
    "cv_scores = pd.DataFrame(model.cv_results_)\n",
    "\n",
    "matri = np.asarray(-cv_scores['mean_test_score'])\n",
    "matri = np.reshape(matri,newshape=(3,4))\n",
    "matri = pd.DataFrame(matri,index=[2,3,4],columns=[25,50,100,200])\n",
    "\n",
    "sns.heatmap(matri,annot=True,cmap=\"YlGnBu\")\n",
    "plt.xlabel('depth')\n",
    "plt.ylabel('number of estimators')\n",
    "plt.show()\n",
    "\n",
    "\n",
    "print(\"-\"*75)\n",
    "\n",
    "print(\"CV train mean_squared_errors\")\n",
    "\n",
    "matri = np.asarray(-cv_scores['mean_train_score'])\n",
    "matri = np.reshape(matri,newshape=(3,4))\n",
    "matri = pd.DataFrame(matri,index=[2,3,4],columns=[25,50,100,200])\n",
    "\n",
    "sns.heatmap(matri,annot=True,cmap=\"YlGn\")\n",
    "plt.xlabel('depth')\n",
    "plt.ylabel('number of estimators')\n",
    "plt.show()\n",
    "\n",
    "y_pred = model.best_estimator_.predict(x_train)\n",
    "\n",
    "train_rmse, train_mape = get_error_metrics(y_train,y_pred)\n",
    "\n",
    "print(\"Train RMSE :\",np.round(train_rmse,decimals=3))\n",
    "print(\"Train mape :\",np.round(train_mape,decimals=3))\n",
    "print(\"\\n\")\n",
    "\n",
    "y_pred = model.best_estimator_.predict(x_test)\n",
    "\n",
    "test_rmse, test_mape = get_error_metrics(y_test,y_pred)\n",
    "\n",
    "print(\"Test RMSE :\",np.round(test_rmse,decimals=3))\n",
    "print(\"Test mape :\",np.round(test_mape,decimals=3))\n",
    "\n",
    "\n",
    "xgb.plot_importance(model.best_estimator_)\n",
    "\n",
    "plt.show()"
   ]
  },
  {
   "cell_type": "markdown",
   "metadata": {},
   "source": [
    "<h3> Matrix Factorization Techniques </h3>"
   ]
  },
  {
   "cell_type": "markdown",
   "metadata": {},
   "source": [
    "<h4> SVD Matrix Factorization User Movie intractions </h4>"
   ]
  },
  {
   "cell_type": "code",
   "execution_count": 67,
   "metadata": {},
   "outputs": [
    {
     "name": "stdout",
     "output_type": "stream",
     "text": [
      "---------------\n",
      "Train Data\n",
      "---------------\n",
      "RMSE : 0.6752601909489298\n",
      "\n",
      "MAPE : 20.024520399720103\n",
      "\n",
      "---------------\n",
      "Test Data\n",
      "---------------\n",
      "RMSE : 1.0867994936143073\n",
      "\n",
      "MAPE : 34.94318162987993\n",
      "\n"
     ]
    }
   ],
   "source": [
    "from surprise import SVD\n",
    "# initiallize the model\n",
    "svd = SVD(n_factors=100, biased=True, random_state=15)\n",
    "svd_train_results, svd_test_results = run_surprise(svd, trainset, testset, verbose=True)\n",
    "\n",
    "models_evaluation_train['svd'] = svd_train_results \n",
    "models_evaluation_test['svd'] = svd_test_results"
   ]
  },
  {
   "cell_type": "markdown",
   "metadata": {},
   "source": [
    "<h4> SVD Matrix Factorization with implicit feedback from user ( user rated movies ) </h4>"
   ]
  },
  {
   "cell_type": "code",
   "execution_count": 68,
   "metadata": {},
   "outputs": [
    {
     "name": "stdout",
     "output_type": "stream",
     "text": [
      "---------------\n",
      "Train Data\n",
      "---------------\n",
      "RMSE : 0.6643101697111403\n",
      "\n",
      "MAPE : 19.300015364841776\n",
      "\n",
      "---------------\n",
      "Test Data\n",
      "---------------\n",
      "RMSE : 1.086935350886891\n",
      "\n",
      "MAPE : 34.901354875110506\n",
      "\n"
     ]
    }
   ],
   "source": [
    "from surprise import SVDpp\n",
    "\n",
    "svdpp = SVDpp(n_factors=50, random_state=15)\n",
    "svdpp_train_results, svdpp_test_results = run_surprise(svdpp, trainset, testset, verbose=True)\n",
    "\n",
    "models_evaluation_train['svdpp'] = svdpp_train_results \n",
    "models_evaluation_test['svdpp'] = svdpp_test_results"
   ]
  },
  {
   "cell_type": "markdown",
   "metadata": {},
   "source": [
    "<h3> XgBoost with 13 features + Surprise Baseline + Surprise KNNbaseline + MF Techniques </h3>"
   ]
  },
  {
   "cell_type": "code",
   "execution_count": 70,
   "metadata": {},
   "outputs": [
    {
     "data": {
      "text/html": [
       "<div>\n",
       "<style scoped>\n",
       "    .dataframe tbody tr th:only-of-type {\n",
       "        vertical-align: middle;\n",
       "    }\n",
       "\n",
       "    .dataframe tbody tr th {\n",
       "        vertical-align: top;\n",
       "    }\n",
       "\n",
       "    .dataframe thead th {\n",
       "        text-align: right;\n",
       "    }\n",
       "</style>\n",
       "<table border=\"1\" class=\"dataframe\">\n",
       "  <thead>\n",
       "    <tr style=\"text-align: right;\">\n",
       "      <th></th>\n",
       "      <th>user</th>\n",
       "      <th>movie</th>\n",
       "      <th>GAvg</th>\n",
       "      <th>sur1</th>\n",
       "      <th>sur2</th>\n",
       "      <th>sur3</th>\n",
       "      <th>sur4</th>\n",
       "      <th>sur5</th>\n",
       "      <th>smr1</th>\n",
       "      <th>smr2</th>\n",
       "      <th>...</th>\n",
       "      <th>smr4</th>\n",
       "      <th>smr5</th>\n",
       "      <th>UAvg</th>\n",
       "      <th>MAvg</th>\n",
       "      <th>rating</th>\n",
       "      <th>bslpr</th>\n",
       "      <th>knn_bsl_u</th>\n",
       "      <th>knn_bsl_m</th>\n",
       "      <th>svd</th>\n",
       "      <th>svdpp</th>\n",
       "    </tr>\n",
       "  </thead>\n",
       "  <tbody>\n",
       "    <tr>\n",
       "      <th>0</th>\n",
       "      <td>1269389</td>\n",
       "      <td>9628</td>\n",
       "      <td>3.587581</td>\n",
       "      <td>4.0</td>\n",
       "      <td>5.0</td>\n",
       "      <td>4.0</td>\n",
       "      <td>5.0</td>\n",
       "      <td>4.0</td>\n",
       "      <td>4.0</td>\n",
       "      <td>5.0</td>\n",
       "      <td>...</td>\n",
       "      <td>4.0</td>\n",
       "      <td>3.0</td>\n",
       "      <td>3.529412</td>\n",
       "      <td>4.480237</td>\n",
       "      <td>5</td>\n",
       "      <td>4.399871</td>\n",
       "      <td>4.782176</td>\n",
       "      <td>4.900055</td>\n",
       "      <td>4.615341</td>\n",
       "      <td>4.622453</td>\n",
       "    </tr>\n",
       "    <tr>\n",
       "      <th>1</th>\n",
       "      <td>1270541</td>\n",
       "      <td>9628</td>\n",
       "      <td>3.587581</td>\n",
       "      <td>5.0</td>\n",
       "      <td>3.0</td>\n",
       "      <td>4.0</td>\n",
       "      <td>4.0</td>\n",
       "      <td>4.0</td>\n",
       "      <td>5.0</td>\n",
       "      <td>5.0</td>\n",
       "      <td>...</td>\n",
       "      <td>4.0</td>\n",
       "      <td>4.0</td>\n",
       "      <td>4.090909</td>\n",
       "      <td>4.480237</td>\n",
       "      <td>5</td>\n",
       "      <td>3.326096</td>\n",
       "      <td>2.984534</td>\n",
       "      <td>2.870883</td>\n",
       "      <td>3.059331</td>\n",
       "      <td>2.845559</td>\n",
       "    </tr>\n",
       "  </tbody>\n",
       "</table>\n",
       "<p>2 rows × 21 columns</p>\n",
       "</div>"
      ],
      "text/plain": [
       "      user  movie      GAvg  sur1  sur2  sur3  sur4  sur5  smr1  smr2  \\\n",
       "0  1269389   9628  3.587581   4.0   5.0   4.0   5.0   4.0   4.0   5.0   \n",
       "1  1270541   9628  3.587581   5.0   3.0   4.0   4.0   4.0   5.0   5.0   \n",
       "\n",
       "     ...     smr4  smr5      UAvg      MAvg  rating     bslpr  knn_bsl_u  \\\n",
       "0    ...      4.0   3.0  3.529412  4.480237       5  4.399871   4.782176   \n",
       "1    ...      4.0   4.0  4.090909  4.480237       5  3.326096   2.984534   \n",
       "\n",
       "   knn_bsl_m       svd     svdpp  \n",
       "0   4.900055  4.615341  4.622453  \n",
       "1   2.870883  3.059331  2.845559  \n",
       "\n",
       "[2 rows x 21 columns]"
      ]
     },
     "execution_count": 70,
     "metadata": {},
     "output_type": "execute_result"
    }
   ],
   "source": [
    "train['svd'] = models_evaluation_train['svd']['predictions']\n",
    "train['svdpp'] = models_evaluation_train['svdpp']['predictions']\n",
    "\n",
    "test['svd'] = models_evaluation_test['svd']['predictions']\n",
    "test['svdpp'] = models_evaluation_test['svdpp']['predictions']\n",
    "train.head(2) "
   ]
  },
  {
   "cell_type": "code",
   "execution_count": 71,
   "metadata": {},
   "outputs": [
    {
     "name": "stdout",
     "output_type": "stream",
     "text": [
      "XGBRegressor(base_score=0.5, booster='gbtree', colsample_bylevel=1,\n",
      "       colsample_bytree=1, gamma=0, learning_rate=0.1, max_delta_step=0,\n",
      "       max_depth=4, min_child_weight=1, missing=None, n_estimators=200,\n",
      "       n_jobs=-1, nthread=None, objective='reg:linear', random_state=0,\n",
      "       reg_alpha=0, reg_lambda=1, scale_pos_weight=1, seed=None,\n",
      "       silent=True, subsample=1)\n",
      "---------------------------------------------------------------------------\n",
      "CV test mean_squared_errors\n"
     ]
    },
    {
     "data": {
      "image/png": "[encoded data removed]",
      "text/plain": [
       "<Figure size 432x288 with 2 Axes>"
      ]
     },
     "metadata": {},
     "output_type": "display_data"
    },
    {
     "name": "stdout",
     "output_type": "stream",
     "text": [
      "---------------------------------------------------------------------------\n",
      "CV train mean_squared_errors\n"
     ]
    },
    {
     "data": {
      "image/png": "[encoded data removed]",
      "text/plain": [
       "<Figure size 432x288 with 2 Axes>"
      ]
     },
     "metadata": {},
     "output_type": "display_data"
    },
    {
     "name": "stdout",
     "output_type": "stream",
     "text": [
      "Train RMSE : 0.858\n",
      "Train mape : 25.613\n",
      "\n",
      "\n",
      "Test RMSE : 1.113\n",
      "Test mape : 34.101\n"
     ]
    },
    {
     "data": {
      "image/png": "[encoded data removed]",
      "text/plain": [
       "<Figure size 432x288 with 1 Axes>"
      ]
     },
     "metadata": {},
     "output_type": "display_data"
    }
   ],
   "source": [
    "x_train = train.drop(['user','movie','rating'], axis=1)\n",
    "y_train = train['rating']\n",
    "\n",
    "x_test = test.drop(['user','movie','rating'], axis=1)\n",
    "y_test = test['rating']\n",
    "\n",
    "tuned_parameters={\n",
    "    'max_depth' : [2,3,4],\n",
    "    'n_estimators': [25,50,100,200],\n",
    "    'learning_rate':[0.1],\n",
    "    'booster':['gbtree'],\n",
    "    'n_jobs':[-1],\n",
    "}\n",
    "\n",
    "xgb_model = xgb.XGBRegressor()\n",
    "model = GridSearchCV(xgb_model, tuned_parameters, scoring = 'neg_mean_squared_error', cv=5,n_jobs=1,return_train_score =True)\n",
    "model.fit(x_train,y_train)\n",
    "print(model.best_estimator_)\n",
    "\n",
    "print(\"-\"*75)\n",
    "print(\"CV test mean_squared_errors\")\n",
    "\n",
    "cv_scores = pd.DataFrame(model.cv_results_)\n",
    "\n",
    "matri = np.asarray(-cv_scores['mean_test_score'])\n",
    "matri = np.reshape(matri,newshape=(3,4))\n",
    "matri = pd.DataFrame(matri,index=[2,3,4],columns=[25,50,100,200])\n",
    "\n",
    "sns.heatmap(matri,annot=True,cmap=\"YlGnBu\")\n",
    "plt.xlabel('depth')\n",
    "plt.ylabel('number of estimators')\n",
    "plt.show()\n",
    "\n",
    "\n",
    "print(\"-\"*75)\n",
    "\n",
    "print(\"CV train mean_squared_errors\")\n",
    "\n",
    "matri = np.asarray(-cv_scores['mean_train_score'])\n",
    "matri = np.reshape(matri,newshape=(3,4))\n",
    "matri = pd.DataFrame(matri,index=[2,3,4],columns=[25,50,100,200])\n",
    "\n",
    "sns.heatmap(matri,annot=True,cmap=\"YlGn\")\n",
    "plt.xlabel('depth')\n",
    "plt.ylabel('number of estimators')\n",
    "plt.show()\n",
    "\n",
    "y_pred = model.best_estimator_.predict(x_train)\n",
    "\n",
    "train_rmse, train_mape = get_error_metrics(y_train,y_pred)\n",
    "\n",
    "print(\"Train RMSE :\",np.round(train_rmse,decimals=3))\n",
    "print(\"Train mape :\",np.round(train_mape,decimals=3))\n",
    "print(\"\\n\")\n",
    "\n",
    "y_pred = model.best_estimator_.predict(x_test)\n",
    "\n",
    "test_rmse, test_mape = get_error_metrics(y_test,y_pred)\n",
    "\n",
    "print(\"Test RMSE :\",np.round(test_rmse,decimals=3))\n",
    "print(\"Test mape :\",np.round(test_mape,decimals=3))\n",
    "\n",
    "\n",
    "xgb.plot_importance(model.best_estimator_)\n",
    "\n",
    "plt.show()"
   ]
  },
  {
   "cell_type": "markdown",
   "metadata": {},
   "source": [
    "<h3> XgBoost with Surprise Baseline + Surprise KNNbaseline + MF Techniques </h3>"
   ]
  },
  {
   "cell_type": "code",
   "execution_count": 72,
   "metadata": {},
   "outputs": [
    {
     "name": "stdout",
     "output_type": "stream",
     "text": [
      "XGBRegressor(base_score=0.5, booster='gbtree', colsample_bylevel=1,\n",
      "       colsample_bytree=1, gamma=0, learning_rate=0.1, max_delta_step=0,\n",
      "       max_depth=2, min_child_weight=1, missing=None, n_estimators=100,\n",
      "       n_jobs=-1, nthread=None, objective='reg:linear', random_state=0,\n",
      "       reg_alpha=0, reg_lambda=1, scale_pos_weight=1, seed=None,\n",
      "       silent=True, subsample=1)\n",
      "---------------------------------------------------------------------------\n",
      "CV test mean_squared_errors\n"
     ]
    },
    {
     "data": {
      "image/png": "[encoded data removed]",
      "text/plain": [
       "<Figure size 432x288 with 2 Axes>"
      ]
     },
     "metadata": {},
     "output_type": "display_data"
    },
    {
     "name": "stdout",
     "output_type": "stream",
     "text": [
      "---------------------------------------------------------------------------\n",
      "CV train mean_squared_errors\n"
     ]
    },
    {
     "data": {
      "image/png": "[encoded data removed]",
      "text/plain": [
       "<Figure size 432x288 with 2 Axes>"
      ]
     },
     "metadata": {},
     "output_type": "display_data"
    },
    {
     "name": "stdout",
     "output_type": "stream",
     "text": [
      "Train RMSE : 1.082\n",
      "Train mape : 35.583\n",
      "\n",
      "\n",
      "Test RMSE : 1.097\n",
      "Test mape : 35.579\n"
     ]
    },
    {
     "data": {
      "image/png": "[encoded data removed]",
      "text/plain": [
       "<Figure size 432x288 with 1 Axes>"
      ]
     },
     "metadata": {},
     "output_type": "display_data"
    }
   ],
   "source": [
    "x_train = train[['knn_bsl_u', 'knn_bsl_m', 'svd', 'svdpp']]\n",
    "y_train = train['rating']\n",
    "\n",
    "x_test = test[['knn_bsl_u', 'knn_bsl_m', 'svd', 'svdpp']]\n",
    "y_test = test['rating']\n",
    "\n",
    "tuned_parameters={\n",
    "    'max_depth' : [2,3,4],\n",
    "    'n_estimators': [25,50,100,200],\n",
    "    'learning_rate':[0.1],\n",
    "    'booster':['gbtree'],\n",
    "    'n_jobs':[-1],\n",
    "}\n",
    "\n",
    "xgb_model = xgb.XGBRegressor()\n",
    "model = GridSearchCV(xgb_model, tuned_parameters, scoring = 'neg_mean_squared_error', cv=5,n_jobs=1,return_train_score =True)\n",
    "model.fit(x_train,y_train)\n",
    "print(model.best_estimator_)\n",
    "\n",
    "print(\"-\"*75)\n",
    "print(\"CV test mean_squared_errors\")\n",
    "\n",
    "cv_scores = pd.DataFrame(model.cv_results_)\n",
    "\n",
    "matri = np.asarray(-cv_scores['mean_test_score'])\n",
    "matri = np.reshape(matri,newshape=(3,4))\n",
    "matri = pd.DataFrame(matri,index=[2,3,4],columns=[25,50,100,200])\n",
    "\n",
    "sns.heatmap(matri,annot=True,cmap=\"YlGnBu\")\n",
    "plt.xlabel('depth')\n",
    "plt.ylabel('number of estimators')\n",
    "plt.show()\n",
    "\n",
    "\n",
    "print(\"-\"*75)\n",
    "\n",
    "print(\"CV train mean_squared_errors\")\n",
    "\n",
    "matri = np.asarray(-cv_scores['mean_train_score'])\n",
    "matri = np.reshape(matri,newshape=(3,4))\n",
    "matri = pd.DataFrame(matri,index=[2,3,4],columns=[25,50,100,200])\n",
    "\n",
    "sns.heatmap(matri,annot=True,cmap=\"YlGn\")\n",
    "plt.xlabel('depth')\n",
    "plt.ylabel('number of estimators')\n",
    "plt.show()\n",
    "\n",
    "y_pred = model.best_estimator_.predict(x_train)\n",
    "\n",
    "train_rmse, train_mape = get_error_metrics(y_train,y_pred)\n",
    "\n",
    "print(\"Train RMSE :\",np.round(train_rmse,decimals=3))\n",
    "print(\"Train mape :\",np.round(train_mape,decimals=3))\n",
    "print(\"\\n\")\n",
    "\n",
    "y_pred = model.best_estimator_.predict(x_test)\n",
    "\n",
    "test_rmse, test_mape = get_error_metrics(y_test,y_pred)\n",
    "\n",
    "print(\"Test RMSE :\",np.round(test_rmse,decimals=3))\n",
    "print(\"Test mape :\",np.round(test_mape,decimals=3))\n",
    "\n",
    "\n",
    "xgb.plot_importance(model.best_estimator_)\n",
    "\n",
    "plt.show()"
   ]
  },
  {
   "cell_type": "markdown",
   "metadata": {},
   "source": [
    "# Conclusion"
   ]
  },
  {
   "cell_type": "code",
   "execution_count": 2,
   "metadata": {},
   "outputs": [
    {
     "name": "stdout",
     "output_type": "stream",
     "text": [
      "+-----------------------------------------------+----------------------+-------------------------+--------+--------+\n",
      "|                 Featurization                 |        Model         |     Hyper-parameters    |  RMSE  |  MAPE  |\n",
      "+-----------------------------------------------+----------------------+-------------------------+--------+--------+\n",
      "|            Handcrafted 13 features            |  XGBoost Regressor   |      max_depth : 4      | 1.111  | 34.141 |\n",
      "|                                               |                      |    n_estimators: 200    |        |        |\n",
      "|                                               |                      |    learning rate =0.1   |        |        |\n",
      "|                                               |                      |                         |        |        |\n",
      "|               Surprise features               |  Surprise Baseline   |       method: sgd       | 1.0867 | 35.008 |\n",
      "|                                               |                      |   learning_rate : .001  |        |        |\n",
      "|                                               |                      |                         |        |        |\n",
      "|            Handcrafted 13 features            |  XGBoost Regressor   |      max_depth : 4      | 1.115  | 34.023 |\n",
      "|   + Surprise Baseline predictor as a feature  |                      |    n_estimators: 200    |        |        |\n",
      "|                                               |                      |    learning rate =0.1   |        |        |\n",
      "|                                               |                      |                         |        |        |\n",
      "|               Surprise features               | Surprise KNNBaseline |    user_based : True    | 1.087  | 35.016 |\n",
      "|                                               |                      | name: pearson_baseline  |        |        |\n",
      "|                                               |                      |      shrinkage: 100     |        |        |\n",
      "|                                               |                      |     min_support : 2     |        |        |\n",
      "|                                               |                      |                         |        |        |\n",
      "|               Surprise features               | Surprise KNNBaseline |   user_based : False    | 1.087  | 35.019 |\n",
      "|                                               |                      | name: pearson_baseline  |        |        |\n",
      "|                                               |                      |      shrinkage: 100     |        |        |\n",
      "|                                               |                      |     min_support : 2     |        |        |\n",
      "|                                               |                      |                         |        |        |\n",
      "|            Handcrafted 13 features            |  XGBoost Regressor   |      max_depth : 4      | 1.113  | 34.103 |\n",
      "|   + Surprise Baseline predictor as a feature  |                      |    n_estimators: 200    |        |        |\n",
      "| + Surprise KNNBaseline predictors as features |                      |    learning rate =0.1   |        |        |\n",
      "|                                               |                      |                         |        |        |\n",
      "|               Surprise features               |         SVD          |      n_factors=100      | 1.0867 | 34.943 |\n",
      "|                                               |                      |                         |        |        |\n",
      "|               Surprise features               |        SVD++         |       n_factors=50      | 1.0869 | 34.90  |\n",
      "|                                               |                      |                         |        |        |\n",
      "|    Surprise Baseline predictor as a feature   |  XGBoost Regressor   |      max_depth : 4      | 1.097  | 35.579 |\n",
      "| + Surprise KNNBaseline predictor as a feature |                      |    n_estimators: 200    |        |        |\n",
      "|       + Matrix Factorization Techniques       |                      |    learning rate =0.1   |        |        |\n",
      "|                                               |                      |                         |        |        |\n",
      "|            Handcrafted 13 features            |  XGBoost Regressor   |      max_depth : 4      | 1.113  | 34.101 |\n",
      "|   + Surprise Baseline predictor as a feature  |                      |    n_estimators: 200    |        |        |\n",
      "| + Surprise KNNBaseline predictor as a feature |                      |    learning rate =0.1   |        |        |\n",
      "|       + Matrix Factorization Techniques       |                      |                         |        |        |\n",
      "|                                               |                      |                         |        |        |\n",
      "+-----------------------------------------------+----------------------+-------------------------+--------+--------+\n",
      "* check procedure about the handcrafted 13 features.\n"
     ]
    }
   ],
   "source": [
    "from prettytable import PrettyTable\n",
    "\n",
    "x = PrettyTable()\n",
    "\n",
    "x.field_names =['Featurization','Model','Hyper-parameters','RMSE','MAPE']\n",
    "\n",
    "x.add_row(['Handcrafted 13 features\\n\\n','XGBoost Regressor',' max_depth : 4 \\n n_estimators: 200 \\n learning rate =0.1\\n','1.111','34.141',])\n",
    "\n",
    "x.add_row(['Surprise features\\n','Surprise Baseline','method: sgd \\n learning_rate : .001\\n','1.0867','35.008'])\n",
    "\n",
    "x.add_row(['Handcrafted 13 features \\n+ Surprise Baseline predictor as a feature\\n','XGBoost Regressor',' max_depth : 4 \\n n_estimators: 200 \\n learning rate =0.1\\n','1.115','34.023',])\n",
    "\n",
    "x.add_row(['Surprise features\\n','Surprise KNNBaseline','user_based : True \\nname: pearson_baseline \\nshrinkage: 100\\nmin_support : 2\\n','1.087','35.016'])\n",
    "\n",
    "x.add_row(['Surprise features\\n','Surprise KNNBaseline','user_based : False \\nname: pearson_baseline \\nshrinkage: 100\\nmin_support : 2\\n','1.087','35.019'])\n",
    "\n",
    "x.add_row(['Handcrafted 13 features \\n+ Surprise Baseline predictor as a feature\\n+ Surprise KNNBaseline predictors as features\\n','XGBoost Regressor',' max_depth : 4 \\n n_estimators: 200 \\n learning rate =0.1\\n','1.113','34.103',])\n",
    "\n",
    "x.add_row(['Surprise features\\n','SVD','n_factors=100\\n','1.0867','34.943'])\n",
    "\n",
    "x.add_row(['Surprise features\\n','SVD++','n_factors=50\\n','1.0869','34.90'])\n",
    "\n",
    "x.add_row(['Surprise Baseline predictor as a feature\\n+ Surprise KNNBaseline predictor as a feature\\n+ Matrix Factorization Techniques\\n','XGBoost Regressor',' max_depth : 4 \\n n_estimators: 200 \\n learning rate =0.1\\n','1.097','35.579',])\n",
    "\n",
    "x.add_row(['Handcrafted 13 features \\n+ Surprise Baseline predictor as a feature\\n+ Surprise KNNBaseline predictor as a feature\\n+ Matrix Factorization Techniques\\n','XGBoost Regressor','max_depth : 4 \\n n_estimators: 200 \\n learning rate =0.1\\n','1.113','34.101',])\n",
    "\n",
    "print(x)\n",
    "print(\"* check procedure about the handcrafted 13 features.\")"
   ]
  },
  {
   "cell_type": "markdown",
   "metadata": {},
   "source": [
    "# Procedure"
   ]
  },
  {
   "cell_type": "markdown",
   "metadata": {},
   "source": [
    "* It was clear that the main objective for this bussiness problem was to predict the rating that a user would give to a movie that he/she has not yet rated.\n",
    "\n",
    "* Extracted the data from the four different text files to a single csv file.\n",
    "\n",
    "* Pre-processed the data.\n",
    "\n",
    "* Analysed the ratings given by user. \n",
    "\n",
    "* Analysed the ratings of a movie given by a user.\n",
    "\n",
    "* Created the train and test sparse matrices from the data frame.\n",
    "\n",
    "* Computed Movie-Movie Similarity matrix and found the most similar movies for a given movie.\n",
    "\n",
    "* Sampled the train and test data considering the computational power.\n",
    "\n",
    "* Represented the train and test data with 13 handcrafted features as:\n",
    "\n",
    "    - __GAvg__ : Average rating of all the ratings .\n",
    "\n",
    "    - __Similar users rating of this movie__:\n",
    "        - sur1, sur2, sur3, sur4, sur5 ( top 5 similar users who rated that movie.. )\n",
    "   \n",
    "    - __Similar movies rated by this user__:\n",
    "        - smr1, smr2, smr3, smr4, smr5 ( top 5 similar movies rated by this movie.. )\n",
    "\n",
    "    - __UAvg__ : User's Average rating.\n",
    "\n",
    "    - __MAvg__ : Average rating of this movie.\n",
    "\n",
    "* Transformed the train and test data into Surprise features for Surprise models.\n",
    "\n",
    "* Applied XGBoost on the 13 handcrafted features.\n",
    "\n",
    "* Applied Surprise Baseline Model on Surprise features.\n",
    "\n",
    "* Applied XGBoost on the 13 handcrafted features along with the rating predicted by the Surprise Baseline Model as a feature.\n",
    "\n",
    "* Applied Surprise KNNBaseline Models on Surprise features.\n",
    "\n",
    "* Applied XGBoost on the 13 handcrafted features along with the ratings predicted by the Surprise Baseline Model and KNNBaseline Models as features.\n",
    "\n",
    "* Applied Matrix Factorization Techniques like SVD and SVD++ on Surprise features.\n",
    "\n",
    "* Applied XGBoost on the 13 handcrafted features along with the ratings predicted by the Surprise Baseline Model,KNNBaseline Models and Matrix Factorization Techniques as features.\n",
    "\n",
    "*  Applied XGBoost on the ratings that are predicted by the Surprise Baseline Model,KNNBaseline Models and Matrix Factorization Techniques as features.\n",
    "\n",
    "* Compared all the models using pretty table."
   ]
  },
  {
   "cell_type": "raw",
   "metadata": {},
   "source": [
    "--------------------------------------------------- THE END ---------------------------------------------------------"
   ]
  }
 ],
 "metadata": {
  "kernelspec": {
   "display_name": "Python 3",
   "language": "python",
   "name": "python3"
  },
  "language_info": {
   "codemirror_mode": {
    "name": "ipython",
    "version": 3
   },
   "file_extension": ".py",
   "mimetype": "text/x-python",
   "name": "python",
   "nbconvert_exporter": "python",
   "pygments_lexer": "ipython3",
   "version": "3.7.1"
  }
 },
 "nbformat": 4,
 "nbformat_minor": 2
}
